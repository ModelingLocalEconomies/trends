{
 "cells": [
  {
   "cell_type": "markdown",
   "metadata": {},
   "source": [
    "# Putting It Together\n",
    "\n",
    "#### CS 5806"
   ]
  },
  {
   "cell_type": "code",
   "execution_count": 71,
   "metadata": {},
   "outputs": [],
   "source": [
    "import numpy as np\n",
    "import pandas as pd\n",
    "import seaborn as sns\n",
    "import matplotlib.pyplot as plt\n",
    "SEED = 100"
   ]
  },
  {
   "cell_type": "code",
   "execution_count": 2,
   "metadata": {},
   "outputs": [],
   "source": [
    "states = ['AL', 'AK', 'AZ', 'AR', 'CA', 'CO', 'CT', 'DE', 'FL', 'GA', \n",
    "          'HI', 'ID', 'IL', 'IN', 'IA', 'KS', 'KY', 'LA', 'ME', 'MD', \n",
    "          'MA', 'MI', 'MN', 'MS', 'MO', 'MT', 'NE', 'NV', 'NH', 'NJ', \n",
    "          'NM', 'NY', 'NC', 'ND', 'OH', 'OK', 'OR', 'PA', 'RI', 'SC', \n",
    "          'SD', 'TN', 'TX', 'UT', 'VT', 'VA', 'WA', 'WV', 'WI', 'WY']"
   ]
  },
  {
   "cell_type": "code",
   "execution_count": 3,
   "metadata": {},
   "outputs": [],
   "source": [
    "state_abbr_map = {'AL': 'Alabama', 'AK': 'Alaska', 'AZ': 'Arizona', 'AR': 'Arkansas', \n",
    "                  'CA': 'California', 'CO': 'Colorado', 'CT': 'Connecticut', 'DE': 'Delaware',\n",
    "                  'FL': 'Florida', 'GA': 'Georgia', 'HI': 'Hawaii', 'ID': 'Idaho', 'IL': 'Illinois', \n",
    "                  'IN': 'Indiana', 'IA': 'Iowa', 'KS': 'Kansas', 'KY': 'Kentucky', 'LA': 'Louisiana',\n",
    "                  'ME': 'Maine', 'MD': 'Maryland', 'MA': 'Massachusetts', 'MI': 'Michigan', \n",
    "                  'MN': 'Minnesota', 'MS': 'Mississippi', 'MO': 'Missouri', 'MT': 'Montana', \n",
    "                  'NE': 'Nebraska', 'NV': 'Nevada', 'NH': 'New Hampshire', 'NJ': 'New Jersey', \n",
    "                  'NM': 'New Mexico', 'NY': 'New York', 'NC': 'North Carolina', 'ND': 'North Dakota', \n",
    "                  'OH': 'Ohio', 'OK': 'Oklahoma', 'OR': 'Oregon', 'PA': 'Pennsylvania', 'RI': 'Rhode Island', \n",
    "                  'SC': 'South Carolina', 'SD': 'South Dakota', 'TN': 'Tennessee', 'TX': 'Texas', \n",
    "                  'UT': 'Utah', 'VT': 'Vermont', 'VA': 'Virginia', 'WA': 'Washington', 'WV': 'West Virginia', \\\n",
    "                  'WI': 'Wisconsin', 'WY': 'Wyoming'}"
   ]
  },
  {
   "cell_type": "code",
   "execution_count": 4,
   "metadata": {},
   "outputs": [],
   "source": [
    "state_abb_subset = ['CA', 'FL', 'GA', 'IL', 'MI', 'NC', 'NY', 'OH', 'PA', 'TX', ]\n",
    "state_subset = ['California', 'Florida', 'Georgia', 'Illinois', 'Michigan', \n",
    "                'North Carolina', 'New York', 'Ohio', 'Pennsylvania', 'Texas']"
   ]
  },
  {
   "cell_type": "code",
   "execution_count": null,
   "metadata": {},
   "outputs": [],
   "source": []
  },
  {
   "cell_type": "code",
   "execution_count": 5,
   "metadata": {},
   "outputs": [],
   "source": [
    "state_trends = pd.DataFrame()\n",
    "\n",
    "for s in states:\n",
    "\n",
    "    state_df = pd.read_csv(\"merged_csvs/\" + s + \"_trend_data.csv\", index_col=0)\n",
    "    state_df['State'] = [s] * len(state_df)\n",
    "\n",
    "    state_trends = pd.concat([state_trends, state_df])\n",
    "\n",
    "state_trends = state_trends.fillna(0).replace(np.inf, 1)\n",
    "state_trends = state_trends.replace(state_abbr_map)\n"
   ]
  },
  {
   "cell_type": "code",
   "execution_count": 6,
   "metadata": {},
   "outputs": [
    {
     "data": {
      "text/html": [
       "<div>\n",
       "<style scoped>\n",
       "    .dataframe tbody tr th:only-of-type {\n",
       "        vertical-align: middle;\n",
       "    }\n",
       "\n",
       "    .dataframe tbody tr th {\n",
       "        vertical-align: top;\n",
       "    }\n",
       "\n",
       "    .dataframe thead th {\n",
       "        text-align: right;\n",
       "    }\n",
       "</style>\n",
       "<table border=\"1\" class=\"dataframe\">\n",
       "  <thead>\n",
       "    <tr style=\"text-align: right;\">\n",
       "      <th></th>\n",
       "      <th>date</th>\n",
       "      <th>Ed Sheeran</th>\n",
       "      <th>Guns N' Roses</th>\n",
       "      <th>Coldplay</th>\n",
       "      <th>Metallica</th>\n",
       "      <th>The Rolling Stones</th>\n",
       "      <th>Pink</th>\n",
       "      <th>U2</th>\n",
       "      <th>Bruno Mars</th>\n",
       "      <th>State</th>\n",
       "    </tr>\n",
       "  </thead>\n",
       "  <tbody>\n",
       "    <tr>\n",
       "      <th>0</th>\n",
       "      <td>2015-01-04</td>\n",
       "      <td>1.000000</td>\n",
       "      <td>0.154930</td>\n",
       "      <td>0.230769</td>\n",
       "      <td>0.243902</td>\n",
       "      <td>0.225352</td>\n",
       "      <td>0.148148</td>\n",
       "      <td>0.112676</td>\n",
       "      <td>0.485714</td>\n",
       "      <td>Alabama</td>\n",
       "    </tr>\n",
       "    <tr>\n",
       "      <th>1</th>\n",
       "      <td>2015-01-11</td>\n",
       "      <td>1.923077</td>\n",
       "      <td>0.150000</td>\n",
       "      <td>0.318182</td>\n",
       "      <td>0.434783</td>\n",
       "      <td>0.400000</td>\n",
       "      <td>0.000000</td>\n",
       "      <td>0.250000</td>\n",
       "      <td>1.400000</td>\n",
       "      <td>Alabama</td>\n",
       "    </tr>\n",
       "    <tr>\n",
       "      <th>2</th>\n",
       "      <td>2015-01-18</td>\n",
       "      <td>1.279070</td>\n",
       "      <td>0.287879</td>\n",
       "      <td>0.054054</td>\n",
       "      <td>0.236842</td>\n",
       "      <td>0.060606</td>\n",
       "      <td>0.160000</td>\n",
       "      <td>0.166667</td>\n",
       "      <td>1.151515</td>\n",
       "      <td>Alabama</td>\n",
       "    </tr>\n",
       "    <tr>\n",
       "      <th>3</th>\n",
       "      <td>2015-01-25</td>\n",
       "      <td>1.500000</td>\n",
       "      <td>0.070175</td>\n",
       "      <td>0.218750</td>\n",
       "      <td>0.303030</td>\n",
       "      <td>0.192982</td>\n",
       "      <td>0.116279</td>\n",
       "      <td>0.105263</td>\n",
       "      <td>0.857143</td>\n",
       "      <td>Alabama</td>\n",
       "    </tr>\n",
       "    <tr>\n",
       "      <th>4</th>\n",
       "      <td>2015-02-01</td>\n",
       "      <td>1.925926</td>\n",
       "      <td>0.179487</td>\n",
       "      <td>0.142857</td>\n",
       "      <td>0.272727</td>\n",
       "      <td>0.333333</td>\n",
       "      <td>0.275862</td>\n",
       "      <td>0.230769</td>\n",
       "      <td>1.736842</td>\n",
       "      <td>Alabama</td>\n",
       "    </tr>\n",
       "    <tr>\n",
       "      <th>...</th>\n",
       "      <td>...</td>\n",
       "      <td>...</td>\n",
       "      <td>...</td>\n",
       "      <td>...</td>\n",
       "      <td>...</td>\n",
       "      <td>...</td>\n",
       "      <td>...</td>\n",
       "      <td>...</td>\n",
       "      <td>...</td>\n",
       "      <td>...</td>\n",
       "    </tr>\n",
       "    <tr>\n",
       "      <th>256</th>\n",
       "      <td>2019-12-01</td>\n",
       "      <td>1.000000</td>\n",
       "      <td>1.000000</td>\n",
       "      <td>1.000000</td>\n",
       "      <td>0.000000</td>\n",
       "      <td>0.000000</td>\n",
       "      <td>1.000000</td>\n",
       "      <td>0.000000</td>\n",
       "      <td>1.000000</td>\n",
       "      <td>Wyoming</td>\n",
       "    </tr>\n",
       "    <tr>\n",
       "      <th>257</th>\n",
       "      <td>2019-12-08</td>\n",
       "      <td>0.000000</td>\n",
       "      <td>0.000000</td>\n",
       "      <td>0.000000</td>\n",
       "      <td>0.000000</td>\n",
       "      <td>0.000000</td>\n",
       "      <td>1.000000</td>\n",
       "      <td>0.000000</td>\n",
       "      <td>0.000000</td>\n",
       "      <td>Wyoming</td>\n",
       "    </tr>\n",
       "    <tr>\n",
       "      <th>258</th>\n",
       "      <td>2019-12-15</td>\n",
       "      <td>1.000000</td>\n",
       "      <td>0.000000</td>\n",
       "      <td>0.000000</td>\n",
       "      <td>0.000000</td>\n",
       "      <td>1.000000</td>\n",
       "      <td>0.000000</td>\n",
       "      <td>1.000000</td>\n",
       "      <td>1.000000</td>\n",
       "      <td>Wyoming</td>\n",
       "    </tr>\n",
       "    <tr>\n",
       "      <th>259</th>\n",
       "      <td>2019-12-22</td>\n",
       "      <td>1.000000</td>\n",
       "      <td>0.000000</td>\n",
       "      <td>0.000000</td>\n",
       "      <td>0.000000</td>\n",
       "      <td>0.000000</td>\n",
       "      <td>0.000000</td>\n",
       "      <td>0.000000</td>\n",
       "      <td>0.000000</td>\n",
       "      <td>Wyoming</td>\n",
       "    </tr>\n",
       "    <tr>\n",
       "      <th>260</th>\n",
       "      <td>2019-12-29</td>\n",
       "      <td>1.000000</td>\n",
       "      <td>1.000000</td>\n",
       "      <td>1.000000</td>\n",
       "      <td>0.000000</td>\n",
       "      <td>0.000000</td>\n",
       "      <td>1.000000</td>\n",
       "      <td>0.000000</td>\n",
       "      <td>0.000000</td>\n",
       "      <td>Wyoming</td>\n",
       "    </tr>\n",
       "  </tbody>\n",
       "</table>\n",
       "<p>13050 rows × 10 columns</p>\n",
       "</div>"
      ],
      "text/plain": [
       "           date  Ed Sheeran  Guns N' Roses  Coldplay  Metallica  \\\n",
       "0    2015-01-04    1.000000       0.154930  0.230769   0.243902   \n",
       "1    2015-01-11    1.923077       0.150000  0.318182   0.434783   \n",
       "2    2015-01-18    1.279070       0.287879  0.054054   0.236842   \n",
       "3    2015-01-25    1.500000       0.070175  0.218750   0.303030   \n",
       "4    2015-02-01    1.925926       0.179487  0.142857   0.272727   \n",
       "..          ...         ...            ...       ...        ...   \n",
       "256  2019-12-01    1.000000       1.000000  1.000000   0.000000   \n",
       "257  2019-12-08    0.000000       0.000000  0.000000   0.000000   \n",
       "258  2019-12-15    1.000000       0.000000  0.000000   0.000000   \n",
       "259  2019-12-22    1.000000       0.000000  0.000000   0.000000   \n",
       "260  2019-12-29    1.000000       1.000000  1.000000   0.000000   \n",
       "\n",
       "     The Rolling Stones      Pink        U2  Bruno Mars    State  \n",
       "0              0.225352  0.148148  0.112676    0.485714  Alabama  \n",
       "1              0.400000  0.000000  0.250000    1.400000  Alabama  \n",
       "2              0.060606  0.160000  0.166667    1.151515  Alabama  \n",
       "3              0.192982  0.116279  0.105263    0.857143  Alabama  \n",
       "4              0.333333  0.275862  0.230769    1.736842  Alabama  \n",
       "..                  ...       ...       ...         ...      ...  \n",
       "256            0.000000  1.000000  0.000000    1.000000  Wyoming  \n",
       "257            0.000000  1.000000  0.000000    0.000000  Wyoming  \n",
       "258            1.000000  0.000000  1.000000    1.000000  Wyoming  \n",
       "259            0.000000  0.000000  0.000000    0.000000  Wyoming  \n",
       "260            0.000000  1.000000  0.000000    0.000000  Wyoming  \n",
       "\n",
       "[13050 rows x 10 columns]"
      ]
     },
     "execution_count": 6,
     "metadata": {},
     "output_type": "execute_result"
    }
   ],
   "source": [
    "state_trends"
   ]
  },
  {
   "cell_type": "code",
   "execution_count": 7,
   "metadata": {},
   "outputs": [
    {
     "data": {
      "text/plain": [
       "array(['Ed Sheeran', \"Guns N' Roses\", 'Coldplay', 'Metallica',\n",
       "       'The Rolling Stones', 'Pink', 'U2', 'Bruno Mars'], dtype=object)"
      ]
     },
     "execution_count": 7,
     "metadata": {},
     "output_type": "execute_result"
    }
   ],
   "source": [
    "artists = np.array(state_trends.columns[1:9])\n",
    "artists"
   ]
  },
  {
   "cell_type": "code",
   "execution_count": 8,
   "metadata": {},
   "outputs": [],
   "source": [
    "state_trends['date'] = pd.to_datetime(state_trends['date'])"
   ]
  },
  {
   "cell_type": "code",
   "execution_count": 9,
   "metadata": {},
   "outputs": [],
   "source": [
    "def get_quarter(date):\n",
    "    return str(date.year) + \":Q\" + str(pd.Timestamp(date).quarter)"
   ]
  },
  {
   "cell_type": "code",
   "execution_count": 10,
   "metadata": {},
   "outputs": [
    {
     "data": {
      "text/html": [
       "<div>\n",
       "<style scoped>\n",
       "    .dataframe tbody tr th:only-of-type {\n",
       "        vertical-align: middle;\n",
       "    }\n",
       "\n",
       "    .dataframe tbody tr th {\n",
       "        vertical-align: top;\n",
       "    }\n",
       "\n",
       "    .dataframe thead th {\n",
       "        text-align: right;\n",
       "    }\n",
       "</style>\n",
       "<table border=\"1\" class=\"dataframe\">\n",
       "  <thead>\n",
       "    <tr style=\"text-align: right;\">\n",
       "      <th></th>\n",
       "      <th>Ed Sheeran</th>\n",
       "      <th>Guns N' Roses</th>\n",
       "      <th>Coldplay</th>\n",
       "      <th>Metallica</th>\n",
       "      <th>The Rolling Stones</th>\n",
       "      <th>Pink</th>\n",
       "      <th>U2</th>\n",
       "      <th>Bruno Mars</th>\n",
       "      <th>State</th>\n",
       "      <th>Quarter</th>\n",
       "    </tr>\n",
       "  </thead>\n",
       "  <tbody>\n",
       "    <tr>\n",
       "      <th>0</th>\n",
       "      <td>1.000000</td>\n",
       "      <td>0.154930</td>\n",
       "      <td>0.230769</td>\n",
       "      <td>0.243902</td>\n",
       "      <td>0.225352</td>\n",
       "      <td>0.148148</td>\n",
       "      <td>0.112676</td>\n",
       "      <td>0.485714</td>\n",
       "      <td>Alabama</td>\n",
       "      <td>2015:Q1</td>\n",
       "    </tr>\n",
       "    <tr>\n",
       "      <th>1</th>\n",
       "      <td>1.923077</td>\n",
       "      <td>0.150000</td>\n",
       "      <td>0.318182</td>\n",
       "      <td>0.434783</td>\n",
       "      <td>0.400000</td>\n",
       "      <td>0.000000</td>\n",
       "      <td>0.250000</td>\n",
       "      <td>1.400000</td>\n",
       "      <td>Alabama</td>\n",
       "      <td>2015:Q1</td>\n",
       "    </tr>\n",
       "    <tr>\n",
       "      <th>2</th>\n",
       "      <td>1.279070</td>\n",
       "      <td>0.287879</td>\n",
       "      <td>0.054054</td>\n",
       "      <td>0.236842</td>\n",
       "      <td>0.060606</td>\n",
       "      <td>0.160000</td>\n",
       "      <td>0.166667</td>\n",
       "      <td>1.151515</td>\n",
       "      <td>Alabama</td>\n",
       "      <td>2015:Q1</td>\n",
       "    </tr>\n",
       "    <tr>\n",
       "      <th>3</th>\n",
       "      <td>1.500000</td>\n",
       "      <td>0.070175</td>\n",
       "      <td>0.218750</td>\n",
       "      <td>0.303030</td>\n",
       "      <td>0.192982</td>\n",
       "      <td>0.116279</td>\n",
       "      <td>0.105263</td>\n",
       "      <td>0.857143</td>\n",
       "      <td>Alabama</td>\n",
       "      <td>2015:Q1</td>\n",
       "    </tr>\n",
       "    <tr>\n",
       "      <th>4</th>\n",
       "      <td>1.925926</td>\n",
       "      <td>0.179487</td>\n",
       "      <td>0.142857</td>\n",
       "      <td>0.272727</td>\n",
       "      <td>0.333333</td>\n",
       "      <td>0.275862</td>\n",
       "      <td>0.230769</td>\n",
       "      <td>1.736842</td>\n",
       "      <td>Alabama</td>\n",
       "      <td>2015:Q1</td>\n",
       "    </tr>\n",
       "    <tr>\n",
       "      <th>...</th>\n",
       "      <td>...</td>\n",
       "      <td>...</td>\n",
       "      <td>...</td>\n",
       "      <td>...</td>\n",
       "      <td>...</td>\n",
       "      <td>...</td>\n",
       "      <td>...</td>\n",
       "      <td>...</td>\n",
       "      <td>...</td>\n",
       "      <td>...</td>\n",
       "    </tr>\n",
       "    <tr>\n",
       "      <th>256</th>\n",
       "      <td>1.000000</td>\n",
       "      <td>1.000000</td>\n",
       "      <td>1.000000</td>\n",
       "      <td>0.000000</td>\n",
       "      <td>0.000000</td>\n",
       "      <td>1.000000</td>\n",
       "      <td>0.000000</td>\n",
       "      <td>1.000000</td>\n",
       "      <td>Wyoming</td>\n",
       "      <td>2019:Q4</td>\n",
       "    </tr>\n",
       "    <tr>\n",
       "      <th>257</th>\n",
       "      <td>0.000000</td>\n",
       "      <td>0.000000</td>\n",
       "      <td>0.000000</td>\n",
       "      <td>0.000000</td>\n",
       "      <td>0.000000</td>\n",
       "      <td>1.000000</td>\n",
       "      <td>0.000000</td>\n",
       "      <td>0.000000</td>\n",
       "      <td>Wyoming</td>\n",
       "      <td>2019:Q4</td>\n",
       "    </tr>\n",
       "    <tr>\n",
       "      <th>258</th>\n",
       "      <td>1.000000</td>\n",
       "      <td>0.000000</td>\n",
       "      <td>0.000000</td>\n",
       "      <td>0.000000</td>\n",
       "      <td>1.000000</td>\n",
       "      <td>0.000000</td>\n",
       "      <td>1.000000</td>\n",
       "      <td>1.000000</td>\n",
       "      <td>Wyoming</td>\n",
       "      <td>2019:Q4</td>\n",
       "    </tr>\n",
       "    <tr>\n",
       "      <th>259</th>\n",
       "      <td>1.000000</td>\n",
       "      <td>0.000000</td>\n",
       "      <td>0.000000</td>\n",
       "      <td>0.000000</td>\n",
       "      <td>0.000000</td>\n",
       "      <td>0.000000</td>\n",
       "      <td>0.000000</td>\n",
       "      <td>0.000000</td>\n",
       "      <td>Wyoming</td>\n",
       "      <td>2019:Q4</td>\n",
       "    </tr>\n",
       "    <tr>\n",
       "      <th>260</th>\n",
       "      <td>1.000000</td>\n",
       "      <td>1.000000</td>\n",
       "      <td>1.000000</td>\n",
       "      <td>0.000000</td>\n",
       "      <td>0.000000</td>\n",
       "      <td>1.000000</td>\n",
       "      <td>0.000000</td>\n",
       "      <td>0.000000</td>\n",
       "      <td>Wyoming</td>\n",
       "      <td>2019:Q4</td>\n",
       "    </tr>\n",
       "  </tbody>\n",
       "</table>\n",
       "<p>13050 rows × 10 columns</p>\n",
       "</div>"
      ],
      "text/plain": [
       "     Ed Sheeran  Guns N' Roses  Coldplay  Metallica  The Rolling Stones  \\\n",
       "0      1.000000       0.154930  0.230769   0.243902            0.225352   \n",
       "1      1.923077       0.150000  0.318182   0.434783            0.400000   \n",
       "2      1.279070       0.287879  0.054054   0.236842            0.060606   \n",
       "3      1.500000       0.070175  0.218750   0.303030            0.192982   \n",
       "4      1.925926       0.179487  0.142857   0.272727            0.333333   \n",
       "..          ...            ...       ...        ...                 ...   \n",
       "256    1.000000       1.000000  1.000000   0.000000            0.000000   \n",
       "257    0.000000       0.000000  0.000000   0.000000            0.000000   \n",
       "258    1.000000       0.000000  0.000000   0.000000            1.000000   \n",
       "259    1.000000       0.000000  0.000000   0.000000            0.000000   \n",
       "260    1.000000       1.000000  1.000000   0.000000            0.000000   \n",
       "\n",
       "         Pink        U2  Bruno Mars    State  Quarter  \n",
       "0    0.148148  0.112676    0.485714  Alabama  2015:Q1  \n",
       "1    0.000000  0.250000    1.400000  Alabama  2015:Q1  \n",
       "2    0.160000  0.166667    1.151515  Alabama  2015:Q1  \n",
       "3    0.116279  0.105263    0.857143  Alabama  2015:Q1  \n",
       "4    0.275862  0.230769    1.736842  Alabama  2015:Q1  \n",
       "..        ...       ...         ...      ...      ...  \n",
       "256  1.000000  0.000000    1.000000  Wyoming  2019:Q4  \n",
       "257  1.000000  0.000000    0.000000  Wyoming  2019:Q4  \n",
       "258  0.000000  1.000000    1.000000  Wyoming  2019:Q4  \n",
       "259  0.000000  0.000000    0.000000  Wyoming  2019:Q4  \n",
       "260  1.000000  0.000000    0.000000  Wyoming  2019:Q4  \n",
       "\n",
       "[13050 rows x 10 columns]"
      ]
     },
     "execution_count": 10,
     "metadata": {},
     "output_type": "execute_result"
    }
   ],
   "source": [
    "state_trends['Quarter'] = state_trends['date'].apply(get_quarter)\n",
    "state_trends = state_trends.drop('date', axis=1)\n",
    "state_trends"
   ]
  },
  {
   "cell_type": "code",
   "execution_count": 11,
   "metadata": {},
   "outputs": [
    {
     "data": {
      "text/html": [
       "<div>\n",
       "<style scoped>\n",
       "    .dataframe tbody tr th:only-of-type {\n",
       "        vertical-align: middle;\n",
       "    }\n",
       "\n",
       "    .dataframe tbody tr th {\n",
       "        vertical-align: top;\n",
       "    }\n",
       "\n",
       "    .dataframe thead th {\n",
       "        text-align: right;\n",
       "    }\n",
       "</style>\n",
       "<table border=\"1\" class=\"dataframe\">\n",
       "  <thead>\n",
       "    <tr style=\"text-align: right;\">\n",
       "      <th></th>\n",
       "      <th>State</th>\n",
       "      <th>Quarter</th>\n",
       "      <th>Artist</th>\n",
       "      <th>Trend Index</th>\n",
       "    </tr>\n",
       "  </thead>\n",
       "  <tbody>\n",
       "    <tr>\n",
       "      <th>0</th>\n",
       "      <td>Alabama</td>\n",
       "      <td>2015:Q1</td>\n",
       "      <td>Ed Sheeran</td>\n",
       "      <td>1.000000</td>\n",
       "    </tr>\n",
       "    <tr>\n",
       "      <th>1</th>\n",
       "      <td>Alabama</td>\n",
       "      <td>2015:Q1</td>\n",
       "      <td>Guns N' Roses</td>\n",
       "      <td>0.154930</td>\n",
       "    </tr>\n",
       "    <tr>\n",
       "      <th>2</th>\n",
       "      <td>Alabama</td>\n",
       "      <td>2015:Q1</td>\n",
       "      <td>Coldplay</td>\n",
       "      <td>0.230769</td>\n",
       "    </tr>\n",
       "    <tr>\n",
       "      <th>3</th>\n",
       "      <td>Alabama</td>\n",
       "      <td>2015:Q1</td>\n",
       "      <td>Metallica</td>\n",
       "      <td>0.243902</td>\n",
       "    </tr>\n",
       "    <tr>\n",
       "      <th>4</th>\n",
       "      <td>Alabama</td>\n",
       "      <td>2015:Q1</td>\n",
       "      <td>The Rolling Stones</td>\n",
       "      <td>0.225352</td>\n",
       "    </tr>\n",
       "    <tr>\n",
       "      <th>...</th>\n",
       "      <td>...</td>\n",
       "      <td>...</td>\n",
       "      <td>...</td>\n",
       "      <td>...</td>\n",
       "    </tr>\n",
       "    <tr>\n",
       "      <th>104395</th>\n",
       "      <td>Wyoming</td>\n",
       "      <td>2019:Q4</td>\n",
       "      <td>Metallica</td>\n",
       "      <td>0.000000</td>\n",
       "    </tr>\n",
       "    <tr>\n",
       "      <th>104396</th>\n",
       "      <td>Wyoming</td>\n",
       "      <td>2019:Q4</td>\n",
       "      <td>The Rolling Stones</td>\n",
       "      <td>0.000000</td>\n",
       "    </tr>\n",
       "    <tr>\n",
       "      <th>104397</th>\n",
       "      <td>Wyoming</td>\n",
       "      <td>2019:Q4</td>\n",
       "      <td>Pink</td>\n",
       "      <td>1.000000</td>\n",
       "    </tr>\n",
       "    <tr>\n",
       "      <th>104398</th>\n",
       "      <td>Wyoming</td>\n",
       "      <td>2019:Q4</td>\n",
       "      <td>U2</td>\n",
       "      <td>0.000000</td>\n",
       "    </tr>\n",
       "    <tr>\n",
       "      <th>104399</th>\n",
       "      <td>Wyoming</td>\n",
       "      <td>2019:Q4</td>\n",
       "      <td>Bruno Mars</td>\n",
       "      <td>0.000000</td>\n",
       "    </tr>\n",
       "  </tbody>\n",
       "</table>\n",
       "<p>104400 rows × 4 columns</p>\n",
       "</div>"
      ],
      "text/plain": [
       "          State  Quarter              Artist  Trend Index\n",
       "0       Alabama  2015:Q1          Ed Sheeran     1.000000\n",
       "1       Alabama  2015:Q1       Guns N' Roses     0.154930\n",
       "2       Alabama  2015:Q1            Coldplay     0.230769\n",
       "3       Alabama  2015:Q1           Metallica     0.243902\n",
       "4       Alabama  2015:Q1  The Rolling Stones     0.225352\n",
       "...         ...      ...                 ...          ...\n",
       "104395  Wyoming  2019:Q4           Metallica     0.000000\n",
       "104396  Wyoming  2019:Q4  The Rolling Stones     0.000000\n",
       "104397  Wyoming  2019:Q4                Pink     1.000000\n",
       "104398  Wyoming  2019:Q4                  U2     0.000000\n",
       "104399  Wyoming  2019:Q4          Bruno Mars     0.000000\n",
       "\n",
       "[104400 rows x 4 columns]"
      ]
     },
     "execution_count": 11,
     "metadata": {},
     "output_type": "execute_result"
    }
   ],
   "source": [
    "stacked_trends = state_trends.set_index(['State', 'Quarter']).stack().reset_index().rename(columns = {'level_2': 'Artist', 0: 'Trend Index'})\n",
    "stacked_trends"
   ]
  },
  {
   "cell_type": "code",
   "execution_count": 12,
   "metadata": {},
   "outputs": [
    {
     "data": {
      "text/html": [
       "<div>\n",
       "<style scoped>\n",
       "    .dataframe tbody tr th:only-of-type {\n",
       "        vertical-align: middle;\n",
       "    }\n",
       "\n",
       "    .dataframe tbody tr th {\n",
       "        vertical-align: top;\n",
       "    }\n",
       "\n",
       "    .dataframe thead th {\n",
       "        text-align: right;\n",
       "    }\n",
       "</style>\n",
       "<table border=\"1\" class=\"dataframe\">\n",
       "  <thead>\n",
       "    <tr style=\"text-align: right;\">\n",
       "      <th></th>\n",
       "      <th>State</th>\n",
       "      <th>Artist</th>\n",
       "      <th>Quarter</th>\n",
       "      <th>Trend Index</th>\n",
       "    </tr>\n",
       "  </thead>\n",
       "  <tbody>\n",
       "    <tr>\n",
       "      <th>0</th>\n",
       "      <td>Alabama</td>\n",
       "      <td>Bruno Mars</td>\n",
       "      <td>2015:Q1</td>\n",
       "      <td>0.882361</td>\n",
       "    </tr>\n",
       "    <tr>\n",
       "      <th>1</th>\n",
       "      <td>Alabama</td>\n",
       "      <td>Bruno Mars</td>\n",
       "      <td>2015:Q2</td>\n",
       "      <td>0.556828</td>\n",
       "    </tr>\n",
       "    <tr>\n",
       "      <th>2</th>\n",
       "      <td>Alabama</td>\n",
       "      <td>Bruno Mars</td>\n",
       "      <td>2015:Q3</td>\n",
       "      <td>0.324614</td>\n",
       "    </tr>\n",
       "    <tr>\n",
       "      <th>3</th>\n",
       "      <td>Alabama</td>\n",
       "      <td>Bruno Mars</td>\n",
       "      <td>2015:Q4</td>\n",
       "      <td>0.226955</td>\n",
       "    </tr>\n",
       "    <tr>\n",
       "      <th>4</th>\n",
       "      <td>Alabama</td>\n",
       "      <td>Bruno Mars</td>\n",
       "      <td>2016:Q1</td>\n",
       "      <td>0.532066</td>\n",
       "    </tr>\n",
       "    <tr>\n",
       "      <th>...</th>\n",
       "      <td>...</td>\n",
       "      <td>...</td>\n",
       "      <td>...</td>\n",
       "      <td>...</td>\n",
       "    </tr>\n",
       "    <tr>\n",
       "      <th>7995</th>\n",
       "      <td>Wyoming</td>\n",
       "      <td>U2</td>\n",
       "      <td>2018:Q4</td>\n",
       "      <td>0.153846</td>\n",
       "    </tr>\n",
       "    <tr>\n",
       "      <th>7996</th>\n",
       "      <td>Wyoming</td>\n",
       "      <td>U2</td>\n",
       "      <td>2019:Q1</td>\n",
       "      <td>0.076923</td>\n",
       "    </tr>\n",
       "    <tr>\n",
       "      <th>7997</th>\n",
       "      <td>Wyoming</td>\n",
       "      <td>U2</td>\n",
       "      <td>2019:Q2</td>\n",
       "      <td>0.230769</td>\n",
       "    </tr>\n",
       "    <tr>\n",
       "      <th>7998</th>\n",
       "      <td>Wyoming</td>\n",
       "      <td>U2</td>\n",
       "      <td>2019:Q3</td>\n",
       "      <td>0.461538</td>\n",
       "    </tr>\n",
       "    <tr>\n",
       "      <th>7999</th>\n",
       "      <td>Wyoming</td>\n",
       "      <td>U2</td>\n",
       "      <td>2019:Q4</td>\n",
       "      <td>0.153846</td>\n",
       "    </tr>\n",
       "  </tbody>\n",
       "</table>\n",
       "<p>8000 rows × 4 columns</p>\n",
       "</div>"
      ],
      "text/plain": [
       "        State      Artist  Quarter  Trend Index\n",
       "0     Alabama  Bruno Mars  2015:Q1     0.882361\n",
       "1     Alabama  Bruno Mars  2015:Q2     0.556828\n",
       "2     Alabama  Bruno Mars  2015:Q3     0.324614\n",
       "3     Alabama  Bruno Mars  2015:Q4     0.226955\n",
       "4     Alabama  Bruno Mars  2016:Q1     0.532066\n",
       "...       ...         ...      ...          ...\n",
       "7995  Wyoming          U2  2018:Q4     0.153846\n",
       "7996  Wyoming          U2  2019:Q1     0.076923\n",
       "7997  Wyoming          U2  2019:Q2     0.230769\n",
       "7998  Wyoming          U2  2019:Q3     0.461538\n",
       "7999  Wyoming          U2  2019:Q4     0.153846\n",
       "\n",
       "[8000 rows x 4 columns]"
      ]
     },
     "execution_count": 12,
     "metadata": {},
     "output_type": "execute_result"
    }
   ],
   "source": [
    "quarterly_trends = stacked_trends.groupby(['State', 'Artist', 'Quarter']).agg(np.average).reset_index()\n",
    "quarterly_trends"
   ]
  },
  {
   "cell_type": "code",
   "execution_count": 13,
   "metadata": {},
   "outputs": [
    {
     "data": {
      "text/html": [
       "<div>\n",
       "<style scoped>\n",
       "    .dataframe tbody tr th:only-of-type {\n",
       "        vertical-align: middle;\n",
       "    }\n",
       "\n",
       "    .dataframe tbody tr th {\n",
       "        vertical-align: top;\n",
       "    }\n",
       "\n",
       "    .dataframe thead th {\n",
       "        text-align: right;\n",
       "    }\n",
       "</style>\n",
       "<table border=\"1\" class=\"dataframe\">\n",
       "  <thead>\n",
       "    <tr style=\"text-align: right;\">\n",
       "      <th></th>\n",
       "      <th>State</th>\n",
       "      <th>Quarter</th>\n",
       "      <th>Trend Index</th>\n",
       "    </tr>\n",
       "  </thead>\n",
       "  <tbody>\n",
       "    <tr>\n",
       "      <th>0</th>\n",
       "      <td>Alabama</td>\n",
       "      <td>2015:Q1</td>\n",
       "      <td>0.445034</td>\n",
       "    </tr>\n",
       "    <tr>\n",
       "      <th>1</th>\n",
       "      <td>Alabama</td>\n",
       "      <td>2015:Q2</td>\n",
       "      <td>0.495337</td>\n",
       "    </tr>\n",
       "    <tr>\n",
       "      <th>2</th>\n",
       "      <td>Alabama</td>\n",
       "      <td>2015:Q3</td>\n",
       "      <td>0.270065</td>\n",
       "    </tr>\n",
       "    <tr>\n",
       "      <th>3</th>\n",
       "      <td>Alabama</td>\n",
       "      <td>2015:Q4</td>\n",
       "      <td>0.246262</td>\n",
       "    </tr>\n",
       "    <tr>\n",
       "      <th>4</th>\n",
       "      <td>Alabama</td>\n",
       "      <td>2016:Q1</td>\n",
       "      <td>0.374800</td>\n",
       "    </tr>\n",
       "    <tr>\n",
       "      <th>...</th>\n",
       "      <td>...</td>\n",
       "      <td>...</td>\n",
       "      <td>...</td>\n",
       "    </tr>\n",
       "    <tr>\n",
       "      <th>995</th>\n",
       "      <td>Wyoming</td>\n",
       "      <td>2018:Q4</td>\n",
       "      <td>0.375000</td>\n",
       "    </tr>\n",
       "    <tr>\n",
       "      <th>996</th>\n",
       "      <td>Wyoming</td>\n",
       "      <td>2019:Q1</td>\n",
       "      <td>0.451923</td>\n",
       "    </tr>\n",
       "    <tr>\n",
       "      <th>997</th>\n",
       "      <td>Wyoming</td>\n",
       "      <td>2019:Q2</td>\n",
       "      <td>0.394231</td>\n",
       "    </tr>\n",
       "    <tr>\n",
       "      <th>998</th>\n",
       "      <td>Wyoming</td>\n",
       "      <td>2019:Q3</td>\n",
       "      <td>0.413462</td>\n",
       "    </tr>\n",
       "    <tr>\n",
       "      <th>999</th>\n",
       "      <td>Wyoming</td>\n",
       "      <td>2019:Q4</td>\n",
       "      <td>0.394231</td>\n",
       "    </tr>\n",
       "  </tbody>\n",
       "</table>\n",
       "<p>1000 rows × 3 columns</p>\n",
       "</div>"
      ],
      "text/plain": [
       "       State  Quarter  Trend Index\n",
       "0    Alabama  2015:Q1     0.445034\n",
       "1    Alabama  2015:Q2     0.495337\n",
       "2    Alabama  2015:Q3     0.270065\n",
       "3    Alabama  2015:Q4     0.246262\n",
       "4    Alabama  2016:Q1     0.374800\n",
       "..       ...      ...          ...\n",
       "995  Wyoming  2018:Q4     0.375000\n",
       "996  Wyoming  2019:Q1     0.451923\n",
       "997  Wyoming  2019:Q2     0.394231\n",
       "998  Wyoming  2019:Q3     0.413462\n",
       "999  Wyoming  2019:Q4     0.394231\n",
       "\n",
       "[1000 rows x 3 columns]"
      ]
     },
     "execution_count": 13,
     "metadata": {},
     "output_type": "execute_result"
    }
   ],
   "source": [
    "avg_by_quarter = quarterly_trends[['State', 'Quarter', 'Trend Index']].groupby(['State', 'Quarter']).agg(np.average).reset_index()\n",
    "avg_by_quarter"
   ]
  },
  {
   "cell_type": "markdown",
   "metadata": {},
   "source": [
    "<hr>"
   ]
  },
  {
   "cell_type": "code",
   "execution_count": 14,
   "metadata": {},
   "outputs": [],
   "source": [
    "concert_gdp_df = pd.read_csv(\"Data/concert_and_economic_data.csv\", index_col=0)"
   ]
  },
  {
   "cell_type": "code",
   "execution_count": 15,
   "metadata": {},
   "outputs": [
    {
     "data": {
      "text/html": [
       "<div>\n",
       "<style scoped>\n",
       "    .dataframe tbody tr th:only-of-type {\n",
       "        vertical-align: middle;\n",
       "    }\n",
       "\n",
       "    .dataframe tbody tr th {\n",
       "        vertical-align: top;\n",
       "    }\n",
       "\n",
       "    .dataframe thead th {\n",
       "        text-align: right;\n",
       "    }\n",
       "</style>\n",
       "<table border=\"1\" class=\"dataframe\">\n",
       "  <thead>\n",
       "    <tr style=\"text-align: right;\">\n",
       "      <th></th>\n",
       "      <th>State</th>\n",
       "      <th>Quarter</th>\n",
       "      <th>GDP Growth</th>\n",
       "      <th>Count</th>\n",
       "      <th>Total Revenue</th>\n",
       "    </tr>\n",
       "  </thead>\n",
       "  <tbody>\n",
       "    <tr>\n",
       "      <th>0</th>\n",
       "      <td>Alabama</td>\n",
       "      <td>2015:Q1</td>\n",
       "      <td>-0.366568</td>\n",
       "      <td>0.0</td>\n",
       "      <td>0.0</td>\n",
       "    </tr>\n",
       "    <tr>\n",
       "      <th>1</th>\n",
       "      <td>Alabama</td>\n",
       "      <td>2015:Q2</td>\n",
       "      <td>1.118762</td>\n",
       "      <td>0.0</td>\n",
       "      <td>0.0</td>\n",
       "    </tr>\n",
       "    <tr>\n",
       "      <th>2</th>\n",
       "      <td>Alabama</td>\n",
       "      <td>2015:Q3</td>\n",
       "      <td>0.423806</td>\n",
       "      <td>0.0</td>\n",
       "      <td>0.0</td>\n",
       "    </tr>\n",
       "    <tr>\n",
       "      <th>3</th>\n",
       "      <td>Alabama</td>\n",
       "      <td>2015:Q4</td>\n",
       "      <td>-0.552170</td>\n",
       "      <td>0.0</td>\n",
       "      <td>0.0</td>\n",
       "    </tr>\n",
       "    <tr>\n",
       "      <th>4</th>\n",
       "      <td>Alabama</td>\n",
       "      <td>2016:Q1</td>\n",
       "      <td>0.181265</td>\n",
       "      <td>0.0</td>\n",
       "      <td>0.0</td>\n",
       "    </tr>\n",
       "    <tr>\n",
       "      <th>...</th>\n",
       "      <td>...</td>\n",
       "      <td>...</td>\n",
       "      <td>...</td>\n",
       "      <td>...</td>\n",
       "      <td>...</td>\n",
       "    </tr>\n",
       "    <tr>\n",
       "      <th>1015</th>\n",
       "      <td>Wyoming</td>\n",
       "      <td>2018:Q4</td>\n",
       "      <td>0.864746</td>\n",
       "      <td>0.0</td>\n",
       "      <td>0.0</td>\n",
       "    </tr>\n",
       "    <tr>\n",
       "      <th>1016</th>\n",
       "      <td>Wyoming</td>\n",
       "      <td>2019:Q1</td>\n",
       "      <td>1.344903</td>\n",
       "      <td>0.0</td>\n",
       "      <td>0.0</td>\n",
       "    </tr>\n",
       "    <tr>\n",
       "      <th>1017</th>\n",
       "      <td>Wyoming</td>\n",
       "      <td>2019:Q2</td>\n",
       "      <td>1.022071</td>\n",
       "      <td>0.0</td>\n",
       "      <td>0.0</td>\n",
       "    </tr>\n",
       "    <tr>\n",
       "      <th>1018</th>\n",
       "      <td>Wyoming</td>\n",
       "      <td>2019:Q3</td>\n",
       "      <td>0.330360</td>\n",
       "      <td>0.0</td>\n",
       "      <td>0.0</td>\n",
       "    </tr>\n",
       "    <tr>\n",
       "      <th>1019</th>\n",
       "      <td>Wyoming</td>\n",
       "      <td>2019:Q4</td>\n",
       "      <td>0.002027</td>\n",
       "      <td>0.0</td>\n",
       "      <td>0.0</td>\n",
       "    </tr>\n",
       "  </tbody>\n",
       "</table>\n",
       "<p>1020 rows × 5 columns</p>\n",
       "</div>"
      ],
      "text/plain": [
       "        State  Quarter  GDP Growth  Count  Total Revenue\n",
       "0     Alabama  2015:Q1   -0.366568    0.0            0.0\n",
       "1     Alabama  2015:Q2    1.118762    0.0            0.0\n",
       "2     Alabama  2015:Q3    0.423806    0.0            0.0\n",
       "3     Alabama  2015:Q4   -0.552170    0.0            0.0\n",
       "4     Alabama  2016:Q1    0.181265    0.0            0.0\n",
       "...       ...      ...         ...    ...            ...\n",
       "1015  Wyoming  2018:Q4    0.864746    0.0            0.0\n",
       "1016  Wyoming  2019:Q1    1.344903    0.0            0.0\n",
       "1017  Wyoming  2019:Q2    1.022071    0.0            0.0\n",
       "1018  Wyoming  2019:Q3    0.330360    0.0            0.0\n",
       "1019  Wyoming  2019:Q4    0.002027    0.0            0.0\n",
       "\n",
       "[1020 rows x 5 columns]"
      ]
     },
     "execution_count": 15,
     "metadata": {},
     "output_type": "execute_result"
    }
   ],
   "source": [
    "concert_gdp_df"
   ]
  },
  {
   "cell_type": "code",
   "execution_count": 16,
   "metadata": {},
   "outputs": [
    {
     "data": {
      "text/html": [
       "<div>\n",
       "<style scoped>\n",
       "    .dataframe tbody tr th:only-of-type {\n",
       "        vertical-align: middle;\n",
       "    }\n",
       "\n",
       "    .dataframe tbody tr th {\n",
       "        vertical-align: top;\n",
       "    }\n",
       "\n",
       "    .dataframe thead th {\n",
       "        text-align: right;\n",
       "    }\n",
       "</style>\n",
       "<table border=\"1\" class=\"dataframe\">\n",
       "  <thead>\n",
       "    <tr style=\"text-align: right;\">\n",
       "      <th></th>\n",
       "      <th>State</th>\n",
       "      <th>Quarter</th>\n",
       "      <th>GDP Growth</th>\n",
       "      <th>Count</th>\n",
       "      <th>Total Revenue</th>\n",
       "    </tr>\n",
       "  </thead>\n",
       "  <tbody>\n",
       "    <tr>\n",
       "      <th>0</th>\n",
       "      <td>Alabama</td>\n",
       "      <td>2015:Q1</td>\n",
       "      <td>-0.366568</td>\n",
       "      <td>0.0</td>\n",
       "      <td>0.0</td>\n",
       "    </tr>\n",
       "    <tr>\n",
       "      <th>1</th>\n",
       "      <td>Alabama</td>\n",
       "      <td>2015:Q2</td>\n",
       "      <td>1.118762</td>\n",
       "      <td>0.0</td>\n",
       "      <td>0.0</td>\n",
       "    </tr>\n",
       "    <tr>\n",
       "      <th>2</th>\n",
       "      <td>Alabama</td>\n",
       "      <td>2015:Q3</td>\n",
       "      <td>0.423806</td>\n",
       "      <td>0.0</td>\n",
       "      <td>0.0</td>\n",
       "    </tr>\n",
       "    <tr>\n",
       "      <th>3</th>\n",
       "      <td>Alabama</td>\n",
       "      <td>2015:Q4</td>\n",
       "      <td>-0.552170</td>\n",
       "      <td>0.0</td>\n",
       "      <td>0.0</td>\n",
       "    </tr>\n",
       "    <tr>\n",
       "      <th>4</th>\n",
       "      <td>Alabama</td>\n",
       "      <td>2016:Q1</td>\n",
       "      <td>0.181265</td>\n",
       "      <td>0.0</td>\n",
       "      <td>0.0</td>\n",
       "    </tr>\n",
       "    <tr>\n",
       "      <th>...</th>\n",
       "      <td>...</td>\n",
       "      <td>...</td>\n",
       "      <td>...</td>\n",
       "      <td>...</td>\n",
       "      <td>...</td>\n",
       "    </tr>\n",
       "    <tr>\n",
       "      <th>1015</th>\n",
       "      <td>Wyoming</td>\n",
       "      <td>2018:Q4</td>\n",
       "      <td>0.864746</td>\n",
       "      <td>0.0</td>\n",
       "      <td>0.0</td>\n",
       "    </tr>\n",
       "    <tr>\n",
       "      <th>1016</th>\n",
       "      <td>Wyoming</td>\n",
       "      <td>2019:Q1</td>\n",
       "      <td>1.344903</td>\n",
       "      <td>0.0</td>\n",
       "      <td>0.0</td>\n",
       "    </tr>\n",
       "    <tr>\n",
       "      <th>1017</th>\n",
       "      <td>Wyoming</td>\n",
       "      <td>2019:Q2</td>\n",
       "      <td>1.022071</td>\n",
       "      <td>0.0</td>\n",
       "      <td>0.0</td>\n",
       "    </tr>\n",
       "    <tr>\n",
       "      <th>1018</th>\n",
       "      <td>Wyoming</td>\n",
       "      <td>2019:Q3</td>\n",
       "      <td>0.330360</td>\n",
       "      <td>0.0</td>\n",
       "      <td>0.0</td>\n",
       "    </tr>\n",
       "    <tr>\n",
       "      <th>1019</th>\n",
       "      <td>Wyoming</td>\n",
       "      <td>2019:Q4</td>\n",
       "      <td>0.002027</td>\n",
       "      <td>0.0</td>\n",
       "      <td>0.0</td>\n",
       "    </tr>\n",
       "  </tbody>\n",
       "</table>\n",
       "<p>1000 rows × 5 columns</p>\n",
       "</div>"
      ],
      "text/plain": [
       "        State  Quarter  GDP Growth  Count  Total Revenue\n",
       "0     Alabama  2015:Q1   -0.366568    0.0            0.0\n",
       "1     Alabama  2015:Q2    1.118762    0.0            0.0\n",
       "2     Alabama  2015:Q3    0.423806    0.0            0.0\n",
       "3     Alabama  2015:Q4   -0.552170    0.0            0.0\n",
       "4     Alabama  2016:Q1    0.181265    0.0            0.0\n",
       "...       ...      ...         ...    ...            ...\n",
       "1015  Wyoming  2018:Q4    0.864746    0.0            0.0\n",
       "1016  Wyoming  2019:Q1    1.344903    0.0            0.0\n",
       "1017  Wyoming  2019:Q2    1.022071    0.0            0.0\n",
       "1018  Wyoming  2019:Q3    0.330360    0.0            0.0\n",
       "1019  Wyoming  2019:Q4    0.002027    0.0            0.0\n",
       "\n",
       "[1000 rows x 5 columns]"
      ]
     },
     "execution_count": 16,
     "metadata": {},
     "output_type": "execute_result"
    }
   ],
   "source": [
    "gdp_subset = concert_gdp_df[concert_gdp_df['State'].isin(state_abbr_map.values())]\n",
    "gdp_subset"
   ]
  },
  {
   "cell_type": "code",
   "execution_count": 17,
   "metadata": {},
   "outputs": [],
   "source": [
    "def scatter_corr(x, y, title=\"Title\", x_label=\"X\", y_label=\"Y\"):\n",
    "\n",
    "    plt.scatter(x, y)\n",
    "    plt.title(title)\n",
    "    plt.xlabel(x_label)\n",
    "    plt.ylabel(y_label)\n",
    "\n",
    "    r = np.corrcoef(x, y)[1][0]\n",
    "    print(\"Correlation Coefficient:\", round(r, 3))"
   ]
  },
  {
   "cell_type": "code",
   "execution_count": 18,
   "metadata": {},
   "outputs": [
    {
     "name": "stdout",
     "output_type": "stream",
     "text": [
      "Correlation Coefficient: 0.175\n"
     ]
    },
    {
     "data": {
      "image/png": "[encoded data removed]",
      "text/plain": [
       "<Figure size 640x480 with 1 Axes>"
      ]
     },
     "metadata": {},
     "output_type": "display_data"
    }
   ],
   "source": [
    "scatter_corr(avg_by_quarter['Trend Index'], gdp_subset['Total Revenue'], \"Index vs. Total Revenue\")"
   ]
  },
  {
   "cell_type": "code",
   "execution_count": 19,
   "metadata": {},
   "outputs": [
    {
     "name": "stderr",
     "output_type": "stream",
     "text": [
      "C:\\Users\\30693\\AppData\\Local\\Temp\\ipykernel_26388\\2073411753.py:1: FutureWarning: The behavior of `series[i:j]` with an integer-dtype index is deprecated. In a future version, this will be treated as *label-based* indexing, consistent with e.g. `series[i]` lookups. To retain the old behavior, use `series.iloc[i:j]`. To get the future behavior, use `series.loc[i:j]`.\n",
      "  scatter_corr(avg_by_quarter['Trend Index'][:-1], gdp_subset['Total Revenue'][1:], \"Previous Quarter Index vs. Total Revenue\")\n"
     ]
    },
    {
     "name": "stdout",
     "output_type": "stream",
     "text": [
      "Correlation Coefficient: 0.142\n"
     ]
    },
    {
     "data": {
      "image/png": "[encoded data removed]",
      "text/plain": [
       "<Figure size 640x480 with 1 Axes>"
      ]
     },
     "metadata": {},
     "output_type": "display_data"
    }
   ],
   "source": [
    "scatter_corr(avg_by_quarter['Trend Index'][:-1], gdp_subset['Total Revenue'][1:], \"Previous Quarter Index vs. Total Revenue\")"
   ]
  },
  {
   "cell_type": "code",
   "execution_count": 20,
   "metadata": {},
   "outputs": [
    {
     "name": "stderr",
     "output_type": "stream",
     "text": [
      "C:\\Users\\30693\\AppData\\Local\\Temp\\ipykernel_26388\\293870700.py:1: FutureWarning: The behavior of `series[i:j]` with an integer-dtype index is deprecated. In a future version, this will be treated as *label-based* indexing, consistent with e.g. `series[i]` lookups. To retain the old behavior, use `series.iloc[i:j]`. To get the future behavior, use `series.loc[i:j]`.\n",
      "  scatter_corr(avg_by_quarter['Trend Index'][:-1], gdp_subset['GDP Growth'][1:], \"Index vs. GDP Growth\")\n"
     ]
    },
    {
     "name": "stdout",
     "output_type": "stream",
     "text": [
      "Correlation Coefficient: 0.047\n"
     ]
    },
    {
     "data": {
      "image/png": "[encoded data removed]",
      "text/plain": [
       "<Figure size 640x480 with 1 Axes>"
      ]
     },
     "metadata": {},
     "output_type": "display_data"
    }
   ],
   "source": [
    "scatter_corr(avg_by_quarter['Trend Index'][:-1], gdp_subset['GDP Growth'][1:], \"Index vs. GDP Growth\")"
   ]
  },
  {
   "cell_type": "markdown",
   "metadata": {},
   "source": [
    "<hr>"
   ]
  },
  {
   "cell_type": "code",
   "execution_count": 21,
   "metadata": {},
   "outputs": [
    {
     "data": {
      "text/html": [
       "<div>\n",
       "<style scoped>\n",
       "    .dataframe tbody tr th:only-of-type {\n",
       "        vertical-align: middle;\n",
       "    }\n",
       "\n",
       "    .dataframe tbody tr th {\n",
       "        vertical-align: top;\n",
       "    }\n",
       "\n",
       "    .dataframe thead th {\n",
       "        text-align: right;\n",
       "    }\n",
       "</style>\n",
       "<table border=\"1\" class=\"dataframe\">\n",
       "  <thead>\n",
       "    <tr style=\"text-align: right;\">\n",
       "      <th></th>\n",
       "      <th>Tour</th>\n",
       "      <th>Artist</th>\n",
       "      <th>Date</th>\n",
       "      <th>City</th>\n",
       "      <th>State</th>\n",
       "      <th>Attendance (Avg.)</th>\n",
       "      <th>Revenue (Avg.)</th>\n",
       "      <th>Quarter</th>\n",
       "      <th>Count</th>\n",
       "    </tr>\n",
       "  </thead>\n",
       "  <tbody>\n",
       "    <tr>\n",
       "      <th>0</th>\n",
       "      <td>÷ Tour</td>\n",
       "      <td>Ed Sheeran</td>\n",
       "      <td>2017-06-29</td>\n",
       "      <td>Kansas City</td>\n",
       "      <td>Missouri</td>\n",
       "      <td>13382.0</td>\n",
       "      <td>1217313.0</td>\n",
       "      <td>2017:Q2</td>\n",
       "      <td>1.0</td>\n",
       "    </tr>\n",
       "    <tr>\n",
       "      <th>1</th>\n",
       "      <td>÷ Tour</td>\n",
       "      <td>Ed Sheeran</td>\n",
       "      <td>2017-06-30</td>\n",
       "      <td>Des Moines</td>\n",
       "      <td>Iowa</td>\n",
       "      <td>13375.0</td>\n",
       "      <td>1078939.0</td>\n",
       "      <td>2017:Q2</td>\n",
       "      <td>1.0</td>\n",
       "    </tr>\n",
       "    <tr>\n",
       "      <th>2</th>\n",
       "      <td>÷ Tour</td>\n",
       "      <td>Ed Sheeran</td>\n",
       "      <td>2017-07-01</td>\n",
       "      <td>Saint Paul</td>\n",
       "      <td>Minnesota</td>\n",
       "      <td>14938.0</td>\n",
       "      <td>1375063.0</td>\n",
       "      <td>2017:Q3</td>\n",
       "      <td>1.0</td>\n",
       "    </tr>\n",
       "    <tr>\n",
       "      <th>3</th>\n",
       "      <td>÷ Tour</td>\n",
       "      <td>Ed Sheeran</td>\n",
       "      <td>2017-07-09</td>\n",
       "      <td>Buffalo</td>\n",
       "      <td>New York</td>\n",
       "      <td>14305.0</td>\n",
       "      <td>1167095.0</td>\n",
       "      <td>2017:Q3</td>\n",
       "      <td>1.0</td>\n",
       "    </tr>\n",
       "    <tr>\n",
       "      <th>4</th>\n",
       "      <td>÷ Tour</td>\n",
       "      <td>Ed Sheeran</td>\n",
       "      <td>2017-07-11</td>\n",
       "      <td>Philadelphia</td>\n",
       "      <td>Pennsylvania</td>\n",
       "      <td>14461.0</td>\n",
       "      <td>1315130.0</td>\n",
       "      <td>2017:Q3</td>\n",
       "      <td>1.0</td>\n",
       "    </tr>\n",
       "    <tr>\n",
       "      <th>...</th>\n",
       "      <td>...</td>\n",
       "      <td>...</td>\n",
       "      <td>...</td>\n",
       "      <td>...</td>\n",
       "      <td>...</td>\n",
       "      <td>...</td>\n",
       "      <td>...</td>\n",
       "      <td>...</td>\n",
       "      <td>...</td>\n",
       "    </tr>\n",
       "    <tr>\n",
       "      <th>448</th>\n",
       "      <td>24K Magic World Tour</td>\n",
       "      <td>Bruno Mars</td>\n",
       "      <td>2018-11-08</td>\n",
       "      <td>Honolulu</td>\n",
       "      <td>Hawaii</td>\n",
       "      <td>37917.0</td>\n",
       "      <td>4131527.0</td>\n",
       "      <td>2018:Q4</td>\n",
       "      <td>1.0</td>\n",
       "    </tr>\n",
       "    <tr>\n",
       "      <th>449</th>\n",
       "      <td>24K Magic World Tour</td>\n",
       "      <td>Bruno Mars</td>\n",
       "      <td>2018-11-10</td>\n",
       "      <td>Honolulu</td>\n",
       "      <td>Hawaii</td>\n",
       "      <td>37917.0</td>\n",
       "      <td>4131527.0</td>\n",
       "      <td>2018:Q4</td>\n",
       "      <td>1.0</td>\n",
       "    </tr>\n",
       "    <tr>\n",
       "      <th>450</th>\n",
       "      <td>24K Magic World Tour</td>\n",
       "      <td>Bruno Mars</td>\n",
       "      <td>2018-11-11</td>\n",
       "      <td>Honolulu</td>\n",
       "      <td>Hawaii</td>\n",
       "      <td>37917.0</td>\n",
       "      <td>4131527.0</td>\n",
       "      <td>2018:Q4</td>\n",
       "      <td>1.0</td>\n",
       "    </tr>\n",
       "    <tr>\n",
       "      <th>451</th>\n",
       "      <td>24K Magic World Tour</td>\n",
       "      <td>Bruno Mars</td>\n",
       "      <td>2018-12-30</td>\n",
       "      <td>Las Vegas</td>\n",
       "      <td>Nevada</td>\n",
       "      <td>15121.0</td>\n",
       "      <td>2929784.0</td>\n",
       "      <td>2018:Q4</td>\n",
       "      <td>1.0</td>\n",
       "    </tr>\n",
       "    <tr>\n",
       "      <th>452</th>\n",
       "      <td>24K Magic World Tour</td>\n",
       "      <td>Bruno Mars</td>\n",
       "      <td>2018-12-31</td>\n",
       "      <td>Las Vegas</td>\n",
       "      <td>Nevada</td>\n",
       "      <td>15121.0</td>\n",
       "      <td>2929784.0</td>\n",
       "      <td>2018:Q4</td>\n",
       "      <td>1.0</td>\n",
       "    </tr>\n",
       "  </tbody>\n",
       "</table>\n",
       "<p>453 rows × 9 columns</p>\n",
       "</div>"
      ],
      "text/plain": [
       "                     Tour      Artist        Date          City         State  \\\n",
       "0                  ÷ Tour  Ed Sheeran  2017-06-29   Kansas City      Missouri   \n",
       "1                  ÷ Tour  Ed Sheeran  2017-06-30    Des Moines          Iowa   \n",
       "2                  ÷ Tour  Ed Sheeran  2017-07-01    Saint Paul     Minnesota   \n",
       "3                  ÷ Tour  Ed Sheeran  2017-07-09       Buffalo      New York   \n",
       "4                  ÷ Tour  Ed Sheeran  2017-07-11  Philadelphia  Pennsylvania   \n",
       "..                    ...         ...         ...           ...           ...   \n",
       "448  24K Magic World Tour  Bruno Mars  2018-11-08      Honolulu        Hawaii   \n",
       "449  24K Magic World Tour  Bruno Mars  2018-11-10      Honolulu        Hawaii   \n",
       "450  24K Magic World Tour  Bruno Mars  2018-11-11      Honolulu        Hawaii   \n",
       "451  24K Magic World Tour  Bruno Mars  2018-12-30     Las Vegas        Nevada   \n",
       "452  24K Magic World Tour  Bruno Mars  2018-12-31     Las Vegas        Nevada   \n",
       "\n",
       "     Attendance (Avg.)  Revenue (Avg.)  Quarter  Count  \n",
       "0              13382.0       1217313.0  2017:Q2    1.0  \n",
       "1              13375.0       1078939.0  2017:Q2    1.0  \n",
       "2              14938.0       1375063.0  2017:Q3    1.0  \n",
       "3              14305.0       1167095.0  2017:Q3    1.0  \n",
       "4              14461.0       1315130.0  2017:Q3    1.0  \n",
       "..                 ...             ...      ...    ...  \n",
       "448            37917.0       4131527.0  2018:Q4    1.0  \n",
       "449            37917.0       4131527.0  2018:Q4    1.0  \n",
       "450            37917.0       4131527.0  2018:Q4    1.0  \n",
       "451            15121.0       2929784.0  2018:Q4    1.0  \n",
       "452            15121.0       2929784.0  2018:Q4    1.0  \n",
       "\n",
       "[453 rows x 9 columns]"
      ]
     },
     "execution_count": 21,
     "metadata": {},
     "output_type": "execute_result"
    }
   ],
   "source": [
    "concerts = pd.read_csv(\"Data/concerts_with_quarter.csv\", index_col=0)\n",
    "concerts"
   ]
  },
  {
   "cell_type": "code",
   "execution_count": 22,
   "metadata": {},
   "outputs": [
    {
     "data": {
      "text/html": [
       "<div>\n",
       "<style scoped>\n",
       "    .dataframe tbody tr th:only-of-type {\n",
       "        vertical-align: middle;\n",
       "    }\n",
       "\n",
       "    .dataframe tbody tr th {\n",
       "        vertical-align: top;\n",
       "    }\n",
       "\n",
       "    .dataframe thead th {\n",
       "        text-align: right;\n",
       "    }\n",
       "</style>\n",
       "<table border=\"1\" class=\"dataframe\">\n",
       "  <thead>\n",
       "    <tr style=\"text-align: right;\">\n",
       "      <th></th>\n",
       "      <th>Tour</th>\n",
       "      <th>Artist</th>\n",
       "      <th>Date</th>\n",
       "      <th>City</th>\n",
       "      <th>State</th>\n",
       "      <th>Attendance (Avg.)</th>\n",
       "      <th>Revenue (Avg.)</th>\n",
       "      <th>Quarter</th>\n",
       "      <th>Count</th>\n",
       "    </tr>\n",
       "  </thead>\n",
       "  <tbody>\n",
       "    <tr>\n",
       "      <th>0</th>\n",
       "      <td>÷ Tour</td>\n",
       "      <td>Ed Sheeran</td>\n",
       "      <td>2017-06-29</td>\n",
       "      <td>Kansas City</td>\n",
       "      <td>Missouri</td>\n",
       "      <td>13382.0</td>\n",
       "      <td>1217313.0</td>\n",
       "      <td>2017:Q2</td>\n",
       "      <td>1.0</td>\n",
       "    </tr>\n",
       "    <tr>\n",
       "      <th>1</th>\n",
       "      <td>÷ Tour</td>\n",
       "      <td>Ed Sheeran</td>\n",
       "      <td>2017-06-30</td>\n",
       "      <td>Des Moines</td>\n",
       "      <td>Iowa</td>\n",
       "      <td>13375.0</td>\n",
       "      <td>1078939.0</td>\n",
       "      <td>2017:Q2</td>\n",
       "      <td>1.0</td>\n",
       "    </tr>\n",
       "    <tr>\n",
       "      <th>2</th>\n",
       "      <td>÷ Tour</td>\n",
       "      <td>Ed Sheeran</td>\n",
       "      <td>2017-07-01</td>\n",
       "      <td>Saint Paul</td>\n",
       "      <td>Minnesota</td>\n",
       "      <td>14938.0</td>\n",
       "      <td>1375063.0</td>\n",
       "      <td>2017:Q3</td>\n",
       "      <td>1.0</td>\n",
       "    </tr>\n",
       "    <tr>\n",
       "      <th>3</th>\n",
       "      <td>÷ Tour</td>\n",
       "      <td>Ed Sheeran</td>\n",
       "      <td>2017-07-09</td>\n",
       "      <td>Buffalo</td>\n",
       "      <td>New York</td>\n",
       "      <td>14305.0</td>\n",
       "      <td>1167095.0</td>\n",
       "      <td>2017:Q3</td>\n",
       "      <td>1.0</td>\n",
       "    </tr>\n",
       "    <tr>\n",
       "      <th>4</th>\n",
       "      <td>÷ Tour</td>\n",
       "      <td>Ed Sheeran</td>\n",
       "      <td>2017-07-11</td>\n",
       "      <td>Philadelphia</td>\n",
       "      <td>Pennsylvania</td>\n",
       "      <td>14461.0</td>\n",
       "      <td>1315130.0</td>\n",
       "      <td>2017:Q3</td>\n",
       "      <td>1.0</td>\n",
       "    </tr>\n",
       "    <tr>\n",
       "      <th>...</th>\n",
       "      <td>...</td>\n",
       "      <td>...</td>\n",
       "      <td>...</td>\n",
       "      <td>...</td>\n",
       "      <td>...</td>\n",
       "      <td>...</td>\n",
       "      <td>...</td>\n",
       "      <td>...</td>\n",
       "      <td>...</td>\n",
       "    </tr>\n",
       "    <tr>\n",
       "      <th>448</th>\n",
       "      <td>24K Magic World Tour</td>\n",
       "      <td>Bruno Mars</td>\n",
       "      <td>2018-11-08</td>\n",
       "      <td>Honolulu</td>\n",
       "      <td>Hawaii</td>\n",
       "      <td>37917.0</td>\n",
       "      <td>4131527.0</td>\n",
       "      <td>2018:Q4</td>\n",
       "      <td>1.0</td>\n",
       "    </tr>\n",
       "    <tr>\n",
       "      <th>449</th>\n",
       "      <td>24K Magic World Tour</td>\n",
       "      <td>Bruno Mars</td>\n",
       "      <td>2018-11-10</td>\n",
       "      <td>Honolulu</td>\n",
       "      <td>Hawaii</td>\n",
       "      <td>37917.0</td>\n",
       "      <td>4131527.0</td>\n",
       "      <td>2018:Q4</td>\n",
       "      <td>1.0</td>\n",
       "    </tr>\n",
       "    <tr>\n",
       "      <th>450</th>\n",
       "      <td>24K Magic World Tour</td>\n",
       "      <td>Bruno Mars</td>\n",
       "      <td>2018-11-11</td>\n",
       "      <td>Honolulu</td>\n",
       "      <td>Hawaii</td>\n",
       "      <td>37917.0</td>\n",
       "      <td>4131527.0</td>\n",
       "      <td>2018:Q4</td>\n",
       "      <td>1.0</td>\n",
       "    </tr>\n",
       "    <tr>\n",
       "      <th>451</th>\n",
       "      <td>24K Magic World Tour</td>\n",
       "      <td>Bruno Mars</td>\n",
       "      <td>2018-12-30</td>\n",
       "      <td>Las Vegas</td>\n",
       "      <td>Nevada</td>\n",
       "      <td>15121.0</td>\n",
       "      <td>2929784.0</td>\n",
       "      <td>2018:Q4</td>\n",
       "      <td>1.0</td>\n",
       "    </tr>\n",
       "    <tr>\n",
       "      <th>452</th>\n",
       "      <td>24K Magic World Tour</td>\n",
       "      <td>Bruno Mars</td>\n",
       "      <td>2018-12-31</td>\n",
       "      <td>Las Vegas</td>\n",
       "      <td>Nevada</td>\n",
       "      <td>15121.0</td>\n",
       "      <td>2929784.0</td>\n",
       "      <td>2018:Q4</td>\n",
       "      <td>1.0</td>\n",
       "    </tr>\n",
       "  </tbody>\n",
       "</table>\n",
       "<p>446 rows × 9 columns</p>\n",
       "</div>"
      ],
      "text/plain": [
       "                     Tour      Artist        Date          City         State  \\\n",
       "0                  ÷ Tour  Ed Sheeran  2017-06-29   Kansas City      Missouri   \n",
       "1                  ÷ Tour  Ed Sheeran  2017-06-30    Des Moines          Iowa   \n",
       "2                  ÷ Tour  Ed Sheeran  2017-07-01    Saint Paul     Minnesota   \n",
       "3                  ÷ Tour  Ed Sheeran  2017-07-09       Buffalo      New York   \n",
       "4                  ÷ Tour  Ed Sheeran  2017-07-11  Philadelphia  Pennsylvania   \n",
       "..                    ...         ...         ...           ...           ...   \n",
       "448  24K Magic World Tour  Bruno Mars  2018-11-08      Honolulu        Hawaii   \n",
       "449  24K Magic World Tour  Bruno Mars  2018-11-10      Honolulu        Hawaii   \n",
       "450  24K Magic World Tour  Bruno Mars  2018-11-11      Honolulu        Hawaii   \n",
       "451  24K Magic World Tour  Bruno Mars  2018-12-30     Las Vegas        Nevada   \n",
       "452  24K Magic World Tour  Bruno Mars  2018-12-31     Las Vegas        Nevada   \n",
       "\n",
       "     Attendance (Avg.)  Revenue (Avg.)  Quarter  Count  \n",
       "0              13382.0       1217313.0  2017:Q2    1.0  \n",
       "1              13375.0       1078939.0  2017:Q2    1.0  \n",
       "2              14938.0       1375063.0  2017:Q3    1.0  \n",
       "3              14305.0       1167095.0  2017:Q3    1.0  \n",
       "4              14461.0       1315130.0  2017:Q3    1.0  \n",
       "..                 ...             ...      ...    ...  \n",
       "448            37917.0       4131527.0  2018:Q4    1.0  \n",
       "449            37917.0       4131527.0  2018:Q4    1.0  \n",
       "450            37917.0       4131527.0  2018:Q4    1.0  \n",
       "451            15121.0       2929784.0  2018:Q4    1.0  \n",
       "452            15121.0       2929784.0  2018:Q4    1.0  \n",
       "\n",
       "[446 rows x 9 columns]"
      ]
     },
     "execution_count": 22,
     "metadata": {},
     "output_type": "execute_result"
    }
   ],
   "source": [
    "concerts_subset = concerts[concerts['State'].isin(state_abbr_map.values())]\n",
    "concerts_subset"
   ]
  },
  {
   "cell_type": "code",
   "execution_count": 23,
   "metadata": {},
   "outputs": [],
   "source": [
    "concerts_with_trends = concerts_subset.merge(quarterly_trends, on=['State', 'Quarter', 'Artist'])"
   ]
  },
  {
   "cell_type": "code",
   "execution_count": 24,
   "metadata": {},
   "outputs": [],
   "source": [
    "def prev_quarter(quarter):\n",
    "\n",
    "    q = int(quarter[-1:])\n",
    "    y = int(quarter[:4])\n",
    "   \n",
    "    if q == 1:\n",
    "        prev_q = 4\n",
    "        prev_y = y - 1\n",
    "    else:\n",
    "        prev_q = q - 1\n",
    "        prev_y = y\n",
    "    \n",
    "    return str(prev_y) + \":Q\" + str(prev_q) "
   ]
  },
  {
   "cell_type": "code",
   "execution_count": 25,
   "metadata": {},
   "outputs": [],
   "source": [
    "def add_prev_quarter(row):\n",
    "\n",
    "    artist = row['Artist']\n",
    "    current_quarter = row['Quarter']\n",
    "    state = row['State']\n",
    "\n",
    "    prev_q = prev_quarter(current_quarter)\n",
    "\n",
    "    prev_index = quarterly_trends[(quarterly_trends['Artist'] == artist) & \n",
    "                         (quarterly_trends['Quarter'] == prev_q) &\n",
    "                         (quarterly_trends['State'] == state)]['Trend Index']\n",
    "    \n",
    "    row['Previous Quarter Index'] = prev_index.values[0]\n",
    "\n",
    "    return row"
   ]
  },
  {
   "cell_type": "code",
   "execution_count": 26,
   "metadata": {},
   "outputs": [],
   "source": [
    "concerts_with_trends = concerts_with_trends.apply(add_prev_quarter, axis=1)"
   ]
  },
  {
   "cell_type": "code",
   "execution_count": 27,
   "metadata": {},
   "outputs": [
    {
     "data": {
      "text/html": [
       "<div>\n",
       "<style scoped>\n",
       "    .dataframe tbody tr th:only-of-type {\n",
       "        vertical-align: middle;\n",
       "    }\n",
       "\n",
       "    .dataframe tbody tr th {\n",
       "        vertical-align: top;\n",
       "    }\n",
       "\n",
       "    .dataframe thead th {\n",
       "        text-align: right;\n",
       "    }\n",
       "</style>\n",
       "<table border=\"1\" class=\"dataframe\">\n",
       "  <thead>\n",
       "    <tr style=\"text-align: right;\">\n",
       "      <th></th>\n",
       "      <th>Tour</th>\n",
       "      <th>Artist</th>\n",
       "      <th>Date</th>\n",
       "      <th>City</th>\n",
       "      <th>State</th>\n",
       "      <th>Attendance (Avg.)</th>\n",
       "      <th>Revenue (Avg.)</th>\n",
       "      <th>Quarter</th>\n",
       "      <th>Count</th>\n",
       "      <th>Trend Index</th>\n",
       "      <th>Previous Quarter Index</th>\n",
       "    </tr>\n",
       "  </thead>\n",
       "  <tbody>\n",
       "    <tr>\n",
       "      <th>0</th>\n",
       "      <td>÷ Tour</td>\n",
       "      <td>Ed Sheeran</td>\n",
       "      <td>2017-06-29</td>\n",
       "      <td>Kansas City</td>\n",
       "      <td>Missouri</td>\n",
       "      <td>13382.0</td>\n",
       "      <td>1217313.0</td>\n",
       "      <td>2017:Q2</td>\n",
       "      <td>1.0</td>\n",
       "      <td>1.307565</td>\n",
       "      <td>1.672580</td>\n",
       "    </tr>\n",
       "    <tr>\n",
       "      <th>1</th>\n",
       "      <td>÷ Tour</td>\n",
       "      <td>Ed Sheeran</td>\n",
       "      <td>2017-06-30</td>\n",
       "      <td>Des Moines</td>\n",
       "      <td>Iowa</td>\n",
       "      <td>13375.0</td>\n",
       "      <td>1078939.0</td>\n",
       "      <td>2017:Q2</td>\n",
       "      <td>1.0</td>\n",
       "      <td>1.717238</td>\n",
       "      <td>2.127836</td>\n",
       "    </tr>\n",
       "    <tr>\n",
       "      <th>2</th>\n",
       "      <td>÷ Tour</td>\n",
       "      <td>Ed Sheeran</td>\n",
       "      <td>2017-07-01</td>\n",
       "      <td>Saint Paul</td>\n",
       "      <td>Minnesota</td>\n",
       "      <td>14938.0</td>\n",
       "      <td>1375063.0</td>\n",
       "      <td>2017:Q3</td>\n",
       "      <td>1.0</td>\n",
       "      <td>1.314404</td>\n",
       "      <td>1.390916</td>\n",
       "    </tr>\n",
       "    <tr>\n",
       "      <th>3</th>\n",
       "      <td>÷ Tour</td>\n",
       "      <td>Ed Sheeran</td>\n",
       "      <td>2017-07-09</td>\n",
       "      <td>Buffalo</td>\n",
       "      <td>New York</td>\n",
       "      <td>14305.0</td>\n",
       "      <td>1167095.0</td>\n",
       "      <td>2017:Q3</td>\n",
       "      <td>1.0</td>\n",
       "      <td>1.453539</td>\n",
       "      <td>1.136132</td>\n",
       "    </tr>\n",
       "    <tr>\n",
       "      <th>4</th>\n",
       "      <td>÷ Tour</td>\n",
       "      <td>Ed Sheeran</td>\n",
       "      <td>2017-09-29</td>\n",
       "      <td>Brooklyn</td>\n",
       "      <td>New York</td>\n",
       "      <td>13688.0</td>\n",
       "      <td>1219493.0</td>\n",
       "      <td>2017:Q3</td>\n",
       "      <td>1.0</td>\n",
       "      <td>1.453539</td>\n",
       "      <td>1.136132</td>\n",
       "    </tr>\n",
       "    <tr>\n",
       "      <th>...</th>\n",
       "      <td>...</td>\n",
       "      <td>...</td>\n",
       "      <td>...</td>\n",
       "      <td>...</td>\n",
       "      <td>...</td>\n",
       "      <td>...</td>\n",
       "      <td>...</td>\n",
       "      <td>...</td>\n",
       "      <td>...</td>\n",
       "      <td>...</td>\n",
       "      <td>...</td>\n",
       "    </tr>\n",
       "    <tr>\n",
       "      <th>441</th>\n",
       "      <td>24K Magic World Tour</td>\n",
       "      <td>Bruno Mars</td>\n",
       "      <td>2018-11-08</td>\n",
       "      <td>Honolulu</td>\n",
       "      <td>Hawaii</td>\n",
       "      <td>37917.0</td>\n",
       "      <td>4131527.0</td>\n",
       "      <td>2018:Q4</td>\n",
       "      <td>1.0</td>\n",
       "      <td>7.948718</td>\n",
       "      <td>2.529762</td>\n",
       "    </tr>\n",
       "    <tr>\n",
       "      <th>442</th>\n",
       "      <td>24K Magic World Tour</td>\n",
       "      <td>Bruno Mars</td>\n",
       "      <td>2018-11-10</td>\n",
       "      <td>Honolulu</td>\n",
       "      <td>Hawaii</td>\n",
       "      <td>37917.0</td>\n",
       "      <td>4131527.0</td>\n",
       "      <td>2018:Q4</td>\n",
       "      <td>1.0</td>\n",
       "      <td>7.948718</td>\n",
       "      <td>2.529762</td>\n",
       "    </tr>\n",
       "    <tr>\n",
       "      <th>443</th>\n",
       "      <td>24K Magic World Tour</td>\n",
       "      <td>Bruno Mars</td>\n",
       "      <td>2018-11-11</td>\n",
       "      <td>Honolulu</td>\n",
       "      <td>Hawaii</td>\n",
       "      <td>37917.0</td>\n",
       "      <td>4131527.0</td>\n",
       "      <td>2018:Q4</td>\n",
       "      <td>1.0</td>\n",
       "      <td>7.948718</td>\n",
       "      <td>2.529762</td>\n",
       "    </tr>\n",
       "    <tr>\n",
       "      <th>444</th>\n",
       "      <td>24K Magic World Tour</td>\n",
       "      <td>Bruno Mars</td>\n",
       "      <td>2018-12-30</td>\n",
       "      <td>Las Vegas</td>\n",
       "      <td>Nevada</td>\n",
       "      <td>15121.0</td>\n",
       "      <td>2929784.0</td>\n",
       "      <td>2018:Q4</td>\n",
       "      <td>1.0</td>\n",
       "      <td>1.051289</td>\n",
       "      <td>0.867876</td>\n",
       "    </tr>\n",
       "    <tr>\n",
       "      <th>445</th>\n",
       "      <td>24K Magic World Tour</td>\n",
       "      <td>Bruno Mars</td>\n",
       "      <td>2018-12-31</td>\n",
       "      <td>Las Vegas</td>\n",
       "      <td>Nevada</td>\n",
       "      <td>15121.0</td>\n",
       "      <td>2929784.0</td>\n",
       "      <td>2018:Q4</td>\n",
       "      <td>1.0</td>\n",
       "      <td>1.051289</td>\n",
       "      <td>0.867876</td>\n",
       "    </tr>\n",
       "  </tbody>\n",
       "</table>\n",
       "<p>429 rows × 11 columns</p>\n",
       "</div>"
      ],
      "text/plain": [
       "                     Tour      Artist        Date         City      State  \\\n",
       "0                  ÷ Tour  Ed Sheeran  2017-06-29  Kansas City   Missouri   \n",
       "1                  ÷ Tour  Ed Sheeran  2017-06-30   Des Moines       Iowa   \n",
       "2                  ÷ Tour  Ed Sheeran  2017-07-01   Saint Paul  Minnesota   \n",
       "3                  ÷ Tour  Ed Sheeran  2017-07-09      Buffalo   New York   \n",
       "4                  ÷ Tour  Ed Sheeran  2017-09-29     Brooklyn   New York   \n",
       "..                    ...         ...         ...          ...        ...   \n",
       "441  24K Magic World Tour  Bruno Mars  2018-11-08     Honolulu     Hawaii   \n",
       "442  24K Magic World Tour  Bruno Mars  2018-11-10     Honolulu     Hawaii   \n",
       "443  24K Magic World Tour  Bruno Mars  2018-11-11     Honolulu     Hawaii   \n",
       "444  24K Magic World Tour  Bruno Mars  2018-12-30    Las Vegas     Nevada   \n",
       "445  24K Magic World Tour  Bruno Mars  2018-12-31    Las Vegas     Nevada   \n",
       "\n",
       "     Attendance (Avg.)  Revenue (Avg.)  Quarter  Count  Trend Index  \\\n",
       "0              13382.0       1217313.0  2017:Q2    1.0     1.307565   \n",
       "1              13375.0       1078939.0  2017:Q2    1.0     1.717238   \n",
       "2              14938.0       1375063.0  2017:Q3    1.0     1.314404   \n",
       "3              14305.0       1167095.0  2017:Q3    1.0     1.453539   \n",
       "4              13688.0       1219493.0  2017:Q3    1.0     1.453539   \n",
       "..                 ...             ...      ...    ...          ...   \n",
       "441            37917.0       4131527.0  2018:Q4    1.0     7.948718   \n",
       "442            37917.0       4131527.0  2018:Q4    1.0     7.948718   \n",
       "443            37917.0       4131527.0  2018:Q4    1.0     7.948718   \n",
       "444            15121.0       2929784.0  2018:Q4    1.0     1.051289   \n",
       "445            15121.0       2929784.0  2018:Q4    1.0     1.051289   \n",
       "\n",
       "     Previous Quarter Index  \n",
       "0                  1.672580  \n",
       "1                  2.127836  \n",
       "2                  1.390916  \n",
       "3                  1.136132  \n",
       "4                  1.136132  \n",
       "..                      ...  \n",
       "441                2.529762  \n",
       "442                2.529762  \n",
       "443                2.529762  \n",
       "444                0.867876  \n",
       "445                0.867876  \n",
       "\n",
       "[429 rows x 11 columns]"
      ]
     },
     "execution_count": 27,
     "metadata": {},
     "output_type": "execute_result"
    }
   ],
   "source": [
    "concerts_with_trends = concerts_with_trends.dropna()\n",
    "concerts_with_trends"
   ]
  },
  {
   "cell_type": "code",
   "execution_count": 28,
   "metadata": {},
   "outputs": [
    {
     "name": "stdout",
     "output_type": "stream",
     "text": [
      "Correlation Coefficient: -0.141\n"
     ]
    },
    {
     "data": {
      "image/png": "[encoded data removed]",
      "text/plain": [
       "<Figure size 640x480 with 1 Axes>"
      ]
     },
     "metadata": {},
     "output_type": "display_data"
    }
   ],
   "source": [
    "scatter_corr(concerts_with_trends['Previous Quarter Index'], concerts_with_trends['Revenue (Avg.)'])"
   ]
  },
  {
   "cell_type": "code",
   "execution_count": 29,
   "metadata": {},
   "outputs": [],
   "source": [
    "X = concerts_with_trends[['Previous Quarter Index', 'Trend Index']]\n",
    "y = concerts_with_trends['Attendance (Avg.)']"
   ]
  },
  {
   "cell_type": "code",
   "execution_count": 30,
   "metadata": {},
   "outputs": [
    {
     "data": {
      "text/plain": [
       "16228.511246635717"
      ]
     },
     "execution_count": 30,
     "metadata": {},
     "output_type": "execute_result"
    }
   ],
   "source": [
    "from sklearn.linear_model import LinearRegression\n",
    "from sklearn.metrics import mean_squared_error\n",
    "\n",
    "lin_reg = LinearRegression()\n",
    "lin_reg.fit(X, y)\n",
    "\n",
    "# report the training error of simple linear regression\n",
    "mean_squared_error(lin_reg.predict(X), y) ** 0.5"
   ]
  },
  {
   "cell_type": "code",
   "execution_count": 31,
   "metadata": {},
   "outputs": [
    {
     "data": {
      "text/html": [
       "<div>\n",
       "<style scoped>\n",
       "    .dataframe tbody tr th:only-of-type {\n",
       "        vertical-align: middle;\n",
       "    }\n",
       "\n",
       "    .dataframe tbody tr th {\n",
       "        vertical-align: top;\n",
       "    }\n",
       "\n",
       "    .dataframe thead th {\n",
       "        text-align: right;\n",
       "    }\n",
       "</style>\n",
       "<table border=\"1\" class=\"dataframe\">\n",
       "  <thead>\n",
       "    <tr style=\"text-align: right;\">\n",
       "      <th></th>\n",
       "      <th>Attendance (Avg.)</th>\n",
       "      <th>Revenue (Avg.)</th>\n",
       "      <th>Count</th>\n",
       "      <th>Trend Index</th>\n",
       "      <th>Previous Quarter Index</th>\n",
       "    </tr>\n",
       "  </thead>\n",
       "  <tbody>\n",
       "    <tr>\n",
       "      <th>count</th>\n",
       "      <td>429.000000</td>\n",
       "      <td>4.290000e+02</td>\n",
       "      <td>429.0</td>\n",
       "      <td>429.000000</td>\n",
       "      <td>429.000000</td>\n",
       "    </tr>\n",
       "    <tr>\n",
       "      <th>mean</th>\n",
       "      <td>24549.524476</td>\n",
       "      <td>3.023124e+06</td>\n",
       "      <td>1.0</td>\n",
       "      <td>0.921921</td>\n",
       "      <td>0.720510</td>\n",
       "    </tr>\n",
       "    <tr>\n",
       "      <th>std</th>\n",
       "      <td>16722.699142</td>\n",
       "      <td>2.355656e+06</td>\n",
       "      <td>0.0</td>\n",
       "      <td>0.705475</td>\n",
       "      <td>0.361727</td>\n",
       "    </tr>\n",
       "    <tr>\n",
       "      <th>min</th>\n",
       "      <td>0.000000</td>\n",
       "      <td>0.000000e+00</td>\n",
       "      <td>1.0</td>\n",
       "      <td>0.000000</td>\n",
       "      <td>0.000000</td>\n",
       "    </tr>\n",
       "    <tr>\n",
       "      <th>25%</th>\n",
       "      <td>13805.000000</td>\n",
       "      <td>1.652912e+06</td>\n",
       "      <td>1.0</td>\n",
       "      <td>0.618340</td>\n",
       "      <td>0.467455</td>\n",
       "    </tr>\n",
       "    <tr>\n",
       "      <th>50%</th>\n",
       "      <td>15651.000000</td>\n",
       "      <td>2.105004e+06</td>\n",
       "      <td>1.0</td>\n",
       "      <td>0.809609</td>\n",
       "      <td>0.628606</td>\n",
       "    </tr>\n",
       "    <tr>\n",
       "      <th>75%</th>\n",
       "      <td>41086.000000</td>\n",
       "      <td>4.247778e+06</td>\n",
       "      <td>1.0</td>\n",
       "      <td>1.128722</td>\n",
       "      <td>0.940156</td>\n",
       "    </tr>\n",
       "    <tr>\n",
       "      <th>max</th>\n",
       "      <td>64442.000000</td>\n",
       "      <td>1.349418e+07</td>\n",
       "      <td>1.0</td>\n",
       "      <td>7.948718</td>\n",
       "      <td>2.529762</td>\n",
       "    </tr>\n",
       "  </tbody>\n",
       "</table>\n",
       "</div>"
      ],
      "text/plain": [
       "       Attendance (Avg.)  Revenue (Avg.)  Count  Trend Index  \\\n",
       "count         429.000000    4.290000e+02  429.0   429.000000   \n",
       "mean        24549.524476    3.023124e+06    1.0     0.921921   \n",
       "std         16722.699142    2.355656e+06    0.0     0.705475   \n",
       "min             0.000000    0.000000e+00    1.0     0.000000   \n",
       "25%         13805.000000    1.652912e+06    1.0     0.618340   \n",
       "50%         15651.000000    2.105004e+06    1.0     0.809609   \n",
       "75%         41086.000000    4.247778e+06    1.0     1.128722   \n",
       "max         64442.000000    1.349418e+07    1.0     7.948718   \n",
       "\n",
       "       Previous Quarter Index  \n",
       "count              429.000000  \n",
       "mean                 0.720510  \n",
       "std                  0.361727  \n",
       "min                  0.000000  \n",
       "25%                  0.467455  \n",
       "50%                  0.628606  \n",
       "75%                  0.940156  \n",
       "max                  2.529762  "
      ]
     },
     "execution_count": 31,
     "metadata": {},
     "output_type": "execute_result"
    }
   ],
   "source": [
    "concerts_with_trends.describe()"
   ]
  },
  {
   "cell_type": "markdown",
   "metadata": {},
   "source": [
    "RMSE is less than one SD when predicting Attendance"
   ]
  },
  {
   "cell_type": "code",
   "execution_count": 32,
   "metadata": {},
   "outputs": [
    {
     "data": {
      "text/plain": [
       "count    4.290000e+02\n",
       "mean     3.023124e+06\n",
       "std      2.355656e+06\n",
       "min      0.000000e+00\n",
       "25%      1.652912e+06\n",
       "50%      2.105004e+06\n",
       "75%      4.247778e+06\n",
       "max      1.349418e+07\n",
       "Name: Revenue (Avg.), dtype: float64"
      ]
     },
     "execution_count": 32,
     "metadata": {},
     "output_type": "execute_result"
    }
   ],
   "source": [
    "2.3e6\n",
    "\n",
    "concerts_with_trends['Revenue (Avg.)'].describe()"
   ]
  },
  {
   "cell_type": "code",
   "execution_count": 33,
   "metadata": {},
   "outputs": [],
   "source": [
    "populations = pd.read_csv(\"Data/state_populations.csv\")"
   ]
  },
  {
   "cell_type": "code",
   "execution_count": 34,
   "metadata": {},
   "outputs": [
    {
     "data": {
      "text/html": [
       "<div>\n",
       "<style scoped>\n",
       "    .dataframe tbody tr th:only-of-type {\n",
       "        vertical-align: middle;\n",
       "    }\n",
       "\n",
       "    .dataframe tbody tr th {\n",
       "        vertical-align: top;\n",
       "    }\n",
       "\n",
       "    .dataframe thead th {\n",
       "        text-align: right;\n",
       "    }\n",
       "</style>\n",
       "<table border=\"1\" class=\"dataframe\">\n",
       "  <thead>\n",
       "    <tr style=\"text-align: right;\">\n",
       "      <th></th>\n",
       "      <th>Tour</th>\n",
       "      <th>Artist</th>\n",
       "      <th>Date</th>\n",
       "      <th>City</th>\n",
       "      <th>State</th>\n",
       "      <th>Attendance (Avg.)</th>\n",
       "      <th>Revenue (Avg.)</th>\n",
       "      <th>Quarter</th>\n",
       "      <th>Count</th>\n",
       "      <th>Trend Index</th>\n",
       "      <th>Previous Quarter Index</th>\n",
       "      <th>2020 Population</th>\n",
       "    </tr>\n",
       "  </thead>\n",
       "  <tbody>\n",
       "    <tr>\n",
       "      <th>0</th>\n",
       "      <td>÷ Tour</td>\n",
       "      <td>Ed Sheeran</td>\n",
       "      <td>2017-06-29</td>\n",
       "      <td>Kansas City</td>\n",
       "      <td>Missouri</td>\n",
       "      <td>13382.0</td>\n",
       "      <td>1217313.0</td>\n",
       "      <td>2017:Q2</td>\n",
       "      <td>1.0</td>\n",
       "      <td>1.307565</td>\n",
       "      <td>1.672580</td>\n",
       "      <td>6154913</td>\n",
       "    </tr>\n",
       "    <tr>\n",
       "      <th>1</th>\n",
       "      <td>÷ Tour</td>\n",
       "      <td>Ed Sheeran</td>\n",
       "      <td>2018-09-06</td>\n",
       "      <td>St. Louis</td>\n",
       "      <td>Missouri</td>\n",
       "      <td>41522.0</td>\n",
       "      <td>3726270.0</td>\n",
       "      <td>2018:Q3</td>\n",
       "      <td>1.0</td>\n",
       "      <td>1.038167</td>\n",
       "      <td>0.807424</td>\n",
       "      <td>6154913</td>\n",
       "    </tr>\n",
       "    <tr>\n",
       "      <th>2</th>\n",
       "      <td>÷ Tour</td>\n",
       "      <td>Ed Sheeran</td>\n",
       "      <td>2018-10-13</td>\n",
       "      <td>Kansas City</td>\n",
       "      <td>Missouri</td>\n",
       "      <td>51324.0</td>\n",
       "      <td>4008747.0</td>\n",
       "      <td>2018:Q4</td>\n",
       "      <td>1.0</td>\n",
       "      <td>0.763292</td>\n",
       "      <td>1.038167</td>\n",
       "      <td>6154913</td>\n",
       "    </tr>\n",
       "    <tr>\n",
       "      <th>3</th>\n",
       "      <td>Not in This Lifetime... Tour</td>\n",
       "      <td>Guns N' Roses</td>\n",
       "      <td>2016-06-29</td>\n",
       "      <td>Kansas City</td>\n",
       "      <td>Missouri</td>\n",
       "      <td>40387.0</td>\n",
       "      <td>3285043.0</td>\n",
       "      <td>2016:Q2</td>\n",
       "      <td>1.0</td>\n",
       "      <td>1.195819</td>\n",
       "      <td>0.483784</td>\n",
       "      <td>6154913</td>\n",
       "    </tr>\n",
       "    <tr>\n",
       "      <th>4</th>\n",
       "      <td>Not in This Lifetime... Tour</td>\n",
       "      <td>Guns N' Roses</td>\n",
       "      <td>2017-07-27</td>\n",
       "      <td>St. Louis</td>\n",
       "      <td>Missouri</td>\n",
       "      <td>36382.0</td>\n",
       "      <td>3533972.0</td>\n",
       "      <td>2017:Q3</td>\n",
       "      <td>1.0</td>\n",
       "      <td>0.956224</td>\n",
       "      <td>0.398732</td>\n",
       "      <td>6154913</td>\n",
       "    </tr>\n",
       "    <tr>\n",
       "      <th>...</th>\n",
       "      <td>...</td>\n",
       "      <td>...</td>\n",
       "      <td>...</td>\n",
       "      <td>...</td>\n",
       "      <td>...</td>\n",
       "      <td>...</td>\n",
       "      <td>...</td>\n",
       "      <td>...</td>\n",
       "      <td>...</td>\n",
       "      <td>...</td>\n",
       "      <td>...</td>\n",
       "      <td>...</td>\n",
       "    </tr>\n",
       "    <tr>\n",
       "      <th>424</th>\n",
       "      <td>WorldWired Tour</td>\n",
       "      <td>Metallica</td>\n",
       "      <td>2018-09-11</td>\n",
       "      <td>Sioux Falls</td>\n",
       "      <td>South Dakota</td>\n",
       "      <td>12018.0</td>\n",
       "      <td>1494540.0</td>\n",
       "      <td>2018:Q3</td>\n",
       "      <td>1.0</td>\n",
       "      <td>1.033791</td>\n",
       "      <td>0.634241</td>\n",
       "      <td>886667</td>\n",
       "    </tr>\n",
       "    <tr>\n",
       "      <th>425</th>\n",
       "      <td>WorldWired Tour</td>\n",
       "      <td>Metallica</td>\n",
       "      <td>2018-11-28</td>\n",
       "      <td>Boise</td>\n",
       "      <td>Idaho</td>\n",
       "      <td>11868.0</td>\n",
       "      <td>1454270.0</td>\n",
       "      <td>2018:Q4</td>\n",
       "      <td>1.0</td>\n",
       "      <td>1.042178</td>\n",
       "      <td>0.610535</td>\n",
       "      <td>1839106</td>\n",
       "    </tr>\n",
       "    <tr>\n",
       "      <th>426</th>\n",
       "      <td>WorldWired Tour</td>\n",
       "      <td>Metallica</td>\n",
       "      <td>2019-01-22</td>\n",
       "      <td>Birmingham</td>\n",
       "      <td>Alabama</td>\n",
       "      <td>17462.0</td>\n",
       "      <td>1713460.0</td>\n",
       "      <td>2019:Q1</td>\n",
       "      <td>1.0</td>\n",
       "      <td>0.700128</td>\n",
       "      <td>0.460818</td>\n",
       "      <td>5024279</td>\n",
       "    </tr>\n",
       "    <tr>\n",
       "      <th>427</th>\n",
       "      <td>Beautiful Trauma World Tour</td>\n",
       "      <td>Pink</td>\n",
       "      <td>2019-03-14</td>\n",
       "      <td>Birmingham</td>\n",
       "      <td>Alabama</td>\n",
       "      <td>13959.0</td>\n",
       "      <td>1487637.0</td>\n",
       "      <td>2019:Q1</td>\n",
       "      <td>1.0</td>\n",
       "      <td>0.684165</td>\n",
       "      <td>0.308303</td>\n",
       "      <td>5024279</td>\n",
       "    </tr>\n",
       "    <tr>\n",
       "      <th>428</th>\n",
       "      <td>Beautiful Trauma World Tour</td>\n",
       "      <td>Pink</td>\n",
       "      <td>2018-04-19</td>\n",
       "      <td>Charlottesville</td>\n",
       "      <td>Virginia</td>\n",
       "      <td>13014.0</td>\n",
       "      <td>1645760.0</td>\n",
       "      <td>2018:Q2</td>\n",
       "      <td>1.0</td>\n",
       "      <td>0.582671</td>\n",
       "      <td>0.592065</td>\n",
       "      <td>8631393</td>\n",
       "    </tr>\n",
       "  </tbody>\n",
       "</table>\n",
       "<p>429 rows × 12 columns</p>\n",
       "</div>"
      ],
      "text/plain": [
       "                             Tour         Artist        Date             City  \\\n",
       "0                          ÷ Tour     Ed Sheeran  2017-06-29      Kansas City   \n",
       "1                          ÷ Tour     Ed Sheeran  2018-09-06        St. Louis   \n",
       "2                          ÷ Tour     Ed Sheeran  2018-10-13      Kansas City   \n",
       "3    Not in This Lifetime... Tour  Guns N' Roses  2016-06-29      Kansas City   \n",
       "4    Not in This Lifetime... Tour  Guns N' Roses  2017-07-27        St. Louis   \n",
       "..                            ...            ...         ...              ...   \n",
       "424               WorldWired Tour      Metallica  2018-09-11      Sioux Falls   \n",
       "425               WorldWired Tour      Metallica  2018-11-28            Boise   \n",
       "426               WorldWired Tour      Metallica  2019-01-22       Birmingham   \n",
       "427   Beautiful Trauma World Tour           Pink  2019-03-14       Birmingham   \n",
       "428   Beautiful Trauma World Tour           Pink  2018-04-19  Charlottesville   \n",
       "\n",
       "            State  Attendance (Avg.)  Revenue (Avg.)  Quarter  Count  \\\n",
       "0        Missouri            13382.0       1217313.0  2017:Q2    1.0   \n",
       "1        Missouri            41522.0       3726270.0  2018:Q3    1.0   \n",
       "2        Missouri            51324.0       4008747.0  2018:Q4    1.0   \n",
       "3        Missouri            40387.0       3285043.0  2016:Q2    1.0   \n",
       "4        Missouri            36382.0       3533972.0  2017:Q3    1.0   \n",
       "..            ...                ...             ...      ...    ...   \n",
       "424  South Dakota            12018.0       1494540.0  2018:Q3    1.0   \n",
       "425         Idaho            11868.0       1454270.0  2018:Q4    1.0   \n",
       "426       Alabama            17462.0       1713460.0  2019:Q1    1.0   \n",
       "427       Alabama            13959.0       1487637.0  2019:Q1    1.0   \n",
       "428      Virginia            13014.0       1645760.0  2018:Q2    1.0   \n",
       "\n",
       "     Trend Index  Previous Quarter Index  2020 Population  \n",
       "0       1.307565                1.672580          6154913  \n",
       "1       1.038167                0.807424          6154913  \n",
       "2       0.763292                1.038167          6154913  \n",
       "3       1.195819                0.483784          6154913  \n",
       "4       0.956224                0.398732          6154913  \n",
       "..           ...                     ...              ...  \n",
       "424     1.033791                0.634241           886667  \n",
       "425     1.042178                0.610535          1839106  \n",
       "426     0.700128                0.460818          5024279  \n",
       "427     0.684165                0.308303          5024279  \n",
       "428     0.582671                0.592065          8631393  \n",
       "\n",
       "[429 rows x 12 columns]"
      ]
     },
     "execution_count": 34,
     "metadata": {},
     "output_type": "execute_result"
    }
   ],
   "source": [
    "test_with_populations = concerts_with_trends.merge(populations)\n",
    "test_with_populations"
   ]
  },
  {
   "cell_type": "code",
   "execution_count": 35,
   "metadata": {},
   "outputs": [
    {
     "data": {
      "text/plain": [
       "2252355.2789614154"
      ]
     },
     "execution_count": 35,
     "metadata": {},
     "output_type": "execute_result"
    }
   ],
   "source": [
    "X = test_with_populations[['Previous Quarter Index', 'Trend Index', '2020 Population']]\n",
    "y = test_with_populations['Revenue (Avg.)']\n",
    "\n",
    "lin_reg = LinearRegression()\n",
    "lin_reg.fit(X, y)\n",
    "\n",
    "# report training error\n",
    "mean_squared_error(lin_reg.predict(X), y) ** 0.5"
   ]
  },
  {
   "cell_type": "code",
   "execution_count": 36,
   "metadata": {},
   "outputs": [
    {
     "name": "stdout",
     "output_type": "stream",
     "text": [
      "Correlation Coefficient: 0.077\n"
     ]
    },
    {
     "data": {
      "image/png": "[encoded data removed]",
      "text/plain": [
       "<Figure size 640x480 with 1 Axes>"
      ]
     },
     "metadata": {},
     "output_type": "display_data"
    }
   ],
   "source": [
    "scatter_corr(test_with_populations['2020 Population'], test_with_populations['Attendance (Avg.)'])"
   ]
  },
  {
   "cell_type": "markdown",
   "metadata": {},
   "source": [
    "Next, see if we can predict concert attendance using our data"
   ]
  },
  {
   "cell_type": "code",
   "execution_count": 37,
   "metadata": {},
   "outputs": [],
   "source": [
    "from sklearn.model_selection import train_test_split\n",
    "\n",
    "X = test_with_populations[['Previous Quarter Index', 'Trend Index', '2020 Population']]\n",
    "y = test_with_populations['Attendance (Avg.)']\n",
    "\n",
    "# initial split to separate out the train set\n",
    "X_train, X_val_test, y_train, y_val_test = train_test_split(X, y, train_size=0.8, random_state=SEED)\n",
    "\n",
    "# split the val_test data into validation and test sets so that the final split is 80/10/10\n",
    "X_val, X_test, y_val, y_test = train_test_split(X_val_test, y_val_test, test_size=0.5, random_state=SEED)"
   ]
  },
  {
   "cell_type": "code",
   "execution_count": 91,
   "metadata": {},
   "outputs": [],
   "source": [
    "def tune_hyper_params(X_train, y_train, X_val, y_val, models, hyper_param_values, title='Title', x_label='X', extra_hyper_params=None):\n",
    "    train_errors = []\n",
    "    val_errors = []\n",
    "\n",
    "    for i, model in enumerate(models):\n",
    "        if extra_hyper_params:\n",
    "            model.fit(X_train, y_train, **extra_hyper_params[i])\n",
    "        else:\n",
    "            model.fit(X_train, y_train)\n",
    "        \n",
    "        # evaluate on the training set\n",
    "        train_pred = model.predict(X_train)\n",
    "        train_rmse = mean_squared_error(y_train, train_pred, squared=False)\n",
    "        train_errors.append(train_rmse)\n",
    "        \n",
    "        # evaluate on the validation set\n",
    "        val_pred = model.predict(X_val)\n",
    "        val_rmse = mean_squared_error(y_val, val_pred, squared=False)\n",
    "        val_errors.append(val_rmse)\n",
    "\n",
    "    # Plotting the results\n",
    "    plt.figure()\n",
    "    plt.plot(hyper_param_values, train_errors, 'o-', color=\"r\", label=\"Training RMSE\")\n",
    "    plt.plot(hyper_param_values, val_errors, 'o-', color=\"g\", label=\"Validation RMSE\")\n",
    "    plt.title(title)\n",
    "    plt.xlabel(x_label)\n",
    "    plt.ylabel(\"RMSE\")\n",
    "    plt.legend()\n",
    "    plt.show()"
   ]
  },
  {
   "cell_type": "code",
   "execution_count": 79,
   "metadata": {},
   "outputs": [
    {
     "data": {
      "image/png": "[encoded data removed]",
      "text/plain": [
       "<Figure size 640x480 with 1 Axes>"
      ]
     },
     "metadata": {},
     "output_type": "display_data"
    }
   ],
   "source": [
    "from sklearn.ensemble import BaggingRegressor\n",
    "\n",
    "# find which n_estimators to use through validation data\n",
    "\n",
    "n_estimators_range = list(range(10, 71, 10))\n",
    "models = [BaggingRegressor(LinearRegression(), n_estimators=n, random_state=SEED) for n in n_estimators_range]\n",
    "\n",
    "title = 'Effect of n_estimators on Bagging Regressor Performance'\n",
    "x_label = 'Number of Estimators'\n",
    "tune_hyper_params(X_train, y_train, X_val, y_val, models, n_estimators_range, title, x_label)\n"
   ]
  },
  {
   "cell_type": "markdown",
   "metadata": {},
   "source": [
    "As we can see by the plot, the number of estimators doesn't seem to impact the performance of the model, but 30 seems to provide the lowest validation error by a small margin. As a result, we will just use 30 estimators. "
   ]
  },
  {
   "cell_type": "code",
   "execution_count": 80,
   "metadata": {},
   "outputs": [
    {
     "data": {
      "text/plain": [
       "16092.987827608513"
      ]
     },
     "execution_count": 80,
     "metadata": {},
     "output_type": "execute_result"
    }
   ],
   "source": [
    "bagged_lin_reg = BaggingRegressor(LinearRegression(), n_estimators=30, random_state=SEED)\n",
    "bagged_lin_reg.fit(X_train, y_train)\n",
    "\n",
    "# output training error\n",
    "mean_squared_error(bagged_lin_reg.predict(X_train), y_train) ** 0.5"
   ]
  },
  {
   "cell_type": "code",
   "execution_count": 81,
   "metadata": {},
   "outputs": [],
   "source": [
    "from sklearn.model_selection import learning_curve\n",
    "\n",
    "def plot_learning_curve(X, y, model):\n",
    "    train_sizes, train_scores, val_scores = learning_curve(\n",
    "        estimator=model, \n",
    "        X=X, \n",
    "        y=y, \n",
    "        train_sizes=np.linspace(0.1, 1.0, 10), \n",
    "        cv=5, \n",
    "        scoring='neg_mean_squared_error',\n",
    "        n_jobs=-1\n",
    "    )\n",
    "\n",
    "    # calculate the mean and standard deviation for training and validation scores\n",
    "    train_scores_mean = -np.mean(train_scores, axis=1)\n",
    "    val_scores_mean = -np.mean(val_scores, axis=1)\n",
    "\n",
    "    # convert scores to RMSE\n",
    "    train_rmse = np.sqrt(train_scores_mean)\n",
    "    val_rmse = np.sqrt(val_scores_mean)\n",
    "\n",
    "    # plot\n",
    "    plt.figure()\n",
    "    plt.title(\"Learning Curve\")\n",
    "    plt.xlabel(\"Training examples\")\n",
    "    plt.ylabel(\"RMSE\")\n",
    "    plt.plot(train_sizes, train_rmse, 'o-', color=\"r\", label=\"Training score\")\n",
    "    plt.plot(train_sizes, val_rmse, 'o-', color=\"g\", label=\"Cross-validation score\")\n",
    "    plt.legend(loc=\"best\")\n",
    "    plt.show()"
   ]
  },
  {
   "cell_type": "code",
   "execution_count": 82,
   "metadata": {},
   "outputs": [
    {
     "data": {
      "image/png": "[encoded data removed]",
      "text/plain": [
       "<Figure size 640x480 with 1 Axes>"
      ]
     },
     "metadata": {},
     "output_type": "display_data"
    }
   ],
   "source": [
    "plot_learning_curve(X_train, y_train, bagged_lin_reg)"
   ]
  },
  {
   "cell_type": "markdown",
   "metadata": {},
   "source": [
    "In general, the learning curve plot looks very promising. As the training samples increase, the training and validation errors converge at a low value which indicates that the model is generalizing well and not overfitting."
   ]
  },
  {
   "cell_type": "markdown",
   "metadata": {},
   "source": [
    "Finally, output the testing root mean squared error with the bagged regressor for predicting attendance."
   ]
  },
  {
   "cell_type": "code",
   "execution_count": 104,
   "metadata": {},
   "outputs": [
    {
     "data": {
      "text/plain": [
       "15695.654417297641"
      ]
     },
     "execution_count": 104,
     "metadata": {},
     "output_type": "execute_result"
    }
   ],
   "source": [
    "y_pred = bagged_lin_reg.predict(X_test)\n",
    "mean_squared_error(y_pred, y_test, squared=False)"
   ]
  },
  {
   "cell_type": "code",
   "execution_count": 100,
   "metadata": {},
   "outputs": [],
   "source": [
    "from keras.models import Sequential\n",
    "from keras.layers import Dense\n",
    "\n",
    "# create the feed-forward neural network model\n",
    "model = Sequential()\n",
    "model.add(Dense(64, input_dim=3, activation='relu'))  # input layer and first hidden layer\n",
    "model.add(Dense(128, activation='relu'))  # second hidden layer\n",
    "model.add(Dense(32, activation='relu'))  # third hidden layer\n",
    "model.add(Dense(1))  # output layer\n",
    "\n",
    "# compile the model\n",
    "model.compile(optimizer='adam', loss='mean_squared_error')\n"
   ]
  },
  {
   "cell_type": "code",
   "execution_count": 101,
   "metadata": {},
   "outputs": [
    {
     "name": "stdout",
     "output_type": "stream",
     "text": [
      "11/11 [==============================] - 0s 2ms/step\n",
      "2/2 [==============================] - 0s 4ms/step\n",
      "11/11 [==============================] - 0s 2ms/step\n",
      "2/2 [==============================] - 0s 4ms/step\n",
      "11/11 [==============================] - 0s 2ms/step\n",
      "2/2 [==============================] - 0s 4ms/step\n",
      "11/11 [==============================] - 0s 2ms/step\n",
      "2/2 [==============================] - 0s 6ms/step\n",
      "11/11 [==============================] - 0s 3ms/step\n",
      "2/2 [==============================] - 0s 6ms/step\n",
      "11/11 [==============================] - 0s 2ms/step\n",
      "2/2 [==============================] - 0s 5ms/step\n",
      "11/11 [==============================] - 0s 3ms/step\n",
      "2/2 [==============================] - 0s 4ms/step\n",
      "11/11 [==============================] - 0s 2ms/step\n",
      "2/2 [==============================] - 0s 3ms/step\n",
      "11/11 [==============================] - 0s 3ms/step\n",
      "2/2 [==============================] - 0s 4ms/step\n",
      "11/11 [==============================] - 0s 3ms/step\n",
      "2/2 [==============================] - 0s 3ms/step\n"
     ]
    },
    {
     "data": {
      "image/png": "[encoded data removed]",
      "text/plain": [
       "<Figure size 640x480 with 1 Axes>"
      ]
     },
     "metadata": {},
     "output_type": "display_data"
    }
   ],
   "source": [
    "epochs = list(range(20, 201, 20))\n",
    "models = [model] * len(epochs)\n",
    "hyperparams = [{'epochs': epoch, 'batch_size': 10, 'verbose': 0} for epoch in epochs]\n",
    "tune_hyper_params(X_train, y_train, X_val, y_val, models, epochs, title='Epochs on performance of NN', x_label='Number of epochs', extra_hyper_params=hyperparams)\n"
   ]
  },
  {
   "cell_type": "markdown",
   "metadata": {},
   "source": [
    "So, to prevent possible overfitting, we will only use 100 epochs since that seems to be the point when the validation accuracy levels off. For this testing, we used a baseline batch-size of 10, but we will also tune this now that we know the number of epochs that we will use."
   ]
  },
  {
   "cell_type": "code",
   "execution_count": 102,
   "metadata": {},
   "outputs": [
    {
     "name": "stdout",
     "output_type": "stream",
     "text": [
      "11/11 [==============================] - 0s 2ms/step\n",
      "2/2 [==============================] - 0s 4ms/step\n",
      "11/11 [==============================] - 0s 2ms/step\n",
      "2/2 [==============================] - 0s 6ms/step\n",
      "11/11 [==============================] - 0s 1ms/step\n",
      "2/2 [==============================] - 0s 4ms/step\n",
      "11/11 [==============================] - 0s 2ms/step\n",
      "2/2 [==============================] - 0s 5ms/step\n",
      "11/11 [==============================] - 0s 2ms/step\n",
      "2/2 [==============================] - 0s 3ms/step\n"
     ]
    },
    {
     "data": {
      "image/png": "[encoded data removed]",
      "text/plain": [
       "<Figure size 640x480 with 1 Axes>"
      ]
     },
     "metadata": {},
     "output_type": "display_data"
    }
   ],
   "source": [
    "batch_sizes = [1] + list(range(5, 21, 5))\n",
    "models = [model] * len(batch_sizes)\n",
    "hyperparams = [{'epochs': 100, 'batch_size': size, 'verbose': 0} for size in batch_sizes]\n",
    "tune_hyper_params(X_train, y_train, X_val, y_val, models, batch_sizes, title='Batch size on performance of NN', x_label='Size of batches', extra_hyper_params=hyperparams)\n"
   ]
  },
  {
   "cell_type": "markdown",
   "metadata": {},
   "source": [
    "As shown, 10 for the batch size seemed to perform the best while a batch size of 1 performed the worst."
   ]
  },
  {
   "cell_type": "code",
   "execution_count": 103,
   "metadata": {},
   "outputs": [
    {
     "name": "stdout",
     "output_type": "stream",
     "text": [
      "2/2 [==============================] - 0s 7ms/step\n",
      "Root Mean Squared Error: 22301.871633304716\n"
     ]
    }
   ],
   "source": [
    "# train the model\n",
    "model.fit(X_train, y_train, epochs=100, batch_size=10, verbose=0)\n",
    "\n",
    "# run predictions and record testing error\n",
    "y_pred = model.predict(X_test)\n",
    "rmse = mean_squared_error(y_test, y_pred, squared=False)\n",
    "print(f\"Root Mean Squared Error: {rmse}\")"
   ]
  },
  {
   "cell_type": "markdown",
   "metadata": {},
   "source": [
    "So, the feed forward neural network performed worse at predicting concert attendance using the time-series google trend data and state populations. In addition to this, the bagging regressor actually predicted the attendance with RMSE within one standard deviation."
   ]
  },
  {
   "cell_type": "markdown",
   "metadata": {},
   "source": [
    "Next, we will try to predict state GDP growth using the google trend scores"
   ]
  },
  {
   "cell_type": "code",
   "execution_count": 129,
   "metadata": {},
   "outputs": [],
   "source": [
    "X = avg_by_quarter[['Trend Index']]\n",
    "y = gdp_subset['GDP Growth']\n",
    "\n",
    "# initial split to separate out the train set\n",
    "X_train, X_val_test, y_train, y_val_test = train_test_split(X, y, train_size=0.8, random_state=SEED)\n",
    "\n",
    "# split the val_test data into validation and test sets so that the final split is 80/10/10\n",
    "X_val, X_test, y_val, y_test = train_test_split(X_val_test, y_val_test, test_size=0.5, random_state=SEED)"
   ]
  },
  {
   "cell_type": "code",
   "execution_count": 111,
   "metadata": {},
   "outputs": [
    {
     "data": {
      "text/plain": [
       "0.8209334722746131"
      ]
     },
     "execution_count": 111,
     "metadata": {},
     "output_type": "execute_result"
    }
   ],
   "source": [
    "lin_reg = LinearRegression()\n",
    "lin_reg.fit(X_train, y_train)\n",
    "\n",
    "mean_squared_error(lin_reg.predict(X_test), y_test) ** 0.5"
   ]
  },
  {
   "cell_type": "code",
   "execution_count": 107,
   "metadata": {},
   "outputs": [
    {
     "data": {
      "image/png": "[encoded data removed]",
      "text/plain": [
       "<Figure size 640x480 with 1 Axes>"
      ]
     },
     "metadata": {},
     "output_type": "display_data"
    }
   ],
   "source": [
    "# find which n_estimators to use through validation data\n",
    "\n",
    "n_estimators_range = list(range(10, 71, 10))\n",
    "models = [BaggingRegressor(LinearRegression(), n_estimators=n, random_state=SEED) for n in n_estimators_range]\n",
    "\n",
    "title = 'Effect of n_estimators on Bagging Regressor Performance'\n",
    "x_label = 'Number of Estimators'\n",
    "tune_hyper_params(X_train, y_train, X_val, y_val, models, n_estimators_range, title, x_label)"
   ]
  },
  {
   "cell_type": "markdown",
   "metadata": {},
   "source": [
    "As shown, the number of estimators does not seem to have an effect on the accuracy of the bagging regressor model when predicting GDP growth. So, to keep it less computationally intense, 10 estimators will be used."
   ]
  },
  {
   "cell_type": "code",
   "execution_count": 114,
   "metadata": {},
   "outputs": [
    {
     "data": {
      "text/plain": [
       "0.7353575413337585"
      ]
     },
     "execution_count": 114,
     "metadata": {},
     "output_type": "execute_result"
    }
   ],
   "source": [
    "bagged_lin_reg_gdp = BaggingRegressor(LinearRegression(), n_estimators=10)\n",
    "bagged_lin_reg_gdp.fit(X_train, y_train)\n",
    "\n",
    "# print training error\n",
    "mean_squared_error(bagged_lin_reg_gdp.predict(X_train), y_train, squared=False)"
   ]
  },
  {
   "cell_type": "code",
   "execution_count": 115,
   "metadata": {},
   "outputs": [
    {
     "data": {
      "image/png": "[encoded data removed]",
      "text/plain": [
       "<Figure size 640x480 with 1 Axes>"
      ]
     },
     "metadata": {},
     "output_type": "display_data"
    }
   ],
   "source": [
    "plot_learning_curve(X_train, y_train, bagged_lin_reg_gdp)"
   ]
  },
  {
   "cell_type": "markdown",
   "metadata": {},
   "source": [
    "The learning curve plot is very interesting, showing that the validation loss is consistently lower than the training loss. The validation loss isn't effected by the number of samples and stays low. This may just be an indication that the training data had much more noise overall than the cross-validation sets generated. "
   ]
  },
  {
   "cell_type": "code",
   "execution_count": 112,
   "metadata": {},
   "outputs": [
    {
     "data": {
      "text/plain": [
       "0.8202794386629324"
      ]
     },
     "execution_count": 112,
     "metadata": {},
     "output_type": "execute_result"
    }
   ],
   "source": [
    "# Finally, output testing RMSE\n",
    "mean_squared_error(bagged_lin_reg_gdp.predict(X_test), y_test, squared=False)"
   ]
  },
  {
   "cell_type": "code",
   "execution_count": 113,
   "metadata": {},
   "outputs": [
    {
     "name": "stdout",
     "output_type": "stream",
     "text": [
      "4/4 [==============================] - 0s 2ms/step\n",
      "Root Mean Squared Error: 0.8240855900941384\n"
     ]
    }
   ],
   "source": [
    "# create the feed-forward neural network model\n",
    "model = Sequential()\n",
    "model.add(Dense(64, input_dim=1, activation='relu'))  # input layer and first hidden layer\n",
    "model.add(Dense(128, activation='relu'))  # second hidden layer\n",
    "model.add(Dense(32, activation='relu'))  # third hidden layer\n",
    "model.add(Dense(1))  # output layer\n",
    "\n",
    "# compile the model\n",
    "model.compile(optimizer='adam', loss='mean_squared_error')"
   ]
  },
  {
   "cell_type": "code",
   "execution_count": 116,
   "metadata": {},
   "outputs": [
    {
     "name": "stdout",
     "output_type": "stream",
     "text": [
      "25/25 [==============================] - 0s 3ms/step\n",
      "4/4 [==============================] - 0s 2ms/step\n",
      "25/25 [==============================] - 0s 2ms/step\n",
      "4/4 [==============================] - 0s 3ms/step\n",
      "25/25 [==============================] - 0s 2ms/step\n",
      "4/4 [==============================] - 0s 3ms/step\n",
      "25/25 [==============================] - 0s 2ms/step\n",
      "4/4 [==============================] - 0s 2ms/step\n",
      "25/25 [==============================] - 0s 2ms/step\n",
      "4/4 [==============================] - 0s 3ms/step\n",
      "25/25 [==============================] - 0s 3ms/step\n",
      "4/4 [==============================] - 0s 4ms/step\n",
      "25/25 [==============================] - 0s 3ms/step\n",
      "4/4 [==============================] - 0s 3ms/step\n",
      "25/25 [==============================] - 0s 3ms/step\n",
      "4/4 [==============================] - 0s 3ms/step\n",
      "25/25 [==============================] - 0s 2ms/step\n",
      "4/4 [==============================] - 0s 4ms/step\n",
      "25/25 [==============================] - 0s 2ms/step\n",
      "4/4 [==============================] - 0s 2ms/step\n"
     ]
    },
    {
     "data": {
      "image/png": "[encoded data removed]",
      "text/plain": [
       "<Figure size 640x480 with 1 Axes>"
      ]
     },
     "metadata": {},
     "output_type": "display_data"
    }
   ],
   "source": [
    "epochs = list(range(20, 101, 20))\n",
    "models = [model] * len(epochs)\n",
    "hyperparams = [{'epochs': epoch, 'batch_size': 10, 'verbose': 0} for epoch in epochs]\n",
    "tune_hyper_params(X_train, y_train, X_val, y_val, models, epochs, title='Epochs on performance of NN', x_label='Number of epochs', extra_hyper_params=hyperparams)"
   ]
  },
  {
   "cell_type": "markdown",
   "metadata": {},
   "source": [
    "As shown by the plot, more epochs will not affect the validation loss, so only 20 will be used."
   ]
  },
  {
   "cell_type": "code",
   "execution_count": 118,
   "metadata": {},
   "outputs": [
    {
     "name": "stdout",
     "output_type": "stream",
     "text": [
      "25/25 [==============================] - 0s 2ms/step\n",
      "4/4 [==============================] - 0s 4ms/step\n",
      "25/25 [==============================] - 0s 1ms/step\n",
      "4/4 [==============================] - 0s 2ms/step\n",
      "25/25 [==============================] - 0s 3ms/step\n",
      "4/4 [==============================] - 0s 3ms/step\n",
      "25/25 [==============================] - 0s 2ms/step\n",
      "4/4 [==============================] - 0s 3ms/step\n",
      "25/25 [==============================] - 0s 3ms/step\n",
      "4/4 [==============================] - 0s 3ms/step\n"
     ]
    },
    {
     "data": {
      "image/png": "[encoded data removed]",
      "text/plain": [
       "<Figure size 640x480 with 1 Axes>"
      ]
     },
     "metadata": {},
     "output_type": "display_data"
    }
   ],
   "source": [
    "batch_sizes = [1] + list(range(5, 21, 5))\n",
    "models = [model] * len(batch_sizes)\n",
    "hyperparams = [{'epochs': 20, 'batch_size': size, 'verbose': 0} for size in batch_sizes]\n",
    "tune_hyper_params(X_train, y_train, X_val, y_val, models, batch_sizes, title='Batch size on performance of NN', x_label='Size of batches', extra_hyper_params=hyperparams)"
   ]
  },
  {
   "cell_type": "markdown",
   "metadata": {},
   "source": [
    "As shown by the plot, the size of the batches doesn't seem to matter in terms of the validation loss, so 10 will be used as a nice base-line."
   ]
  },
  {
   "cell_type": "code",
   "execution_count": 121,
   "metadata": {},
   "outputs": [
    {
     "name": "stdout",
     "output_type": "stream",
     "text": [
      "25/25 [==============================] - 0s 2ms/step\n",
      "Root Mean Squared Training Error: 0.7271228791943971\n",
      "4/4 [==============================] - 0s 2ms/step\n",
      "Root Mean Squared Testing Error: 0.8157803319944666\n"
     ]
    }
   ],
   "source": [
    "# train the model using learned hyper parameters\n",
    "model.fit(X_train, y_train, epochs=20, batch_size=10, verbose=0)\n",
    "\n",
    "# run predictions\n",
    "\n",
    "y_pred = model.predict(X_train)\n",
    "rmse = mean_squared_error(y_train, y_pred, squared=False)\n",
    "print(f\"Root Mean Squared Training Error: {rmse}\")\n",
    "\n",
    "y_pred = model.predict(X_test)\n",
    "rmse = mean_squared_error(y_test, y_pred, squared=False)\n",
    "print(f\"Root Mean Squared Testing Error: {rmse}\")"
   ]
  },
  {
   "cell_type": "code",
   "execution_count": 120,
   "metadata": {},
   "outputs": [
    {
     "data": {
      "text/html": [
       "<div>\n",
       "<style scoped>\n",
       "    .dataframe tbody tr th:only-of-type {\n",
       "        vertical-align: middle;\n",
       "    }\n",
       "\n",
       "    .dataframe tbody tr th {\n",
       "        vertical-align: top;\n",
       "    }\n",
       "\n",
       "    .dataframe thead th {\n",
       "        text-align: right;\n",
       "    }\n",
       "</style>\n",
       "<table border=\"1\" class=\"dataframe\">\n",
       "  <thead>\n",
       "    <tr style=\"text-align: right;\">\n",
       "      <th></th>\n",
       "      <th>GDP Growth</th>\n",
       "      <th>Count</th>\n",
       "      <th>Total Revenue</th>\n",
       "    </tr>\n",
       "  </thead>\n",
       "  <tbody>\n",
       "    <tr>\n",
       "      <th>count</th>\n",
       "      <td>1000.000000</td>\n",
       "      <td>1000.00000</td>\n",
       "      <td>1.000000e+03</td>\n",
       "    </tr>\n",
       "    <tr>\n",
       "      <th>mean</th>\n",
       "      <td>0.436205</td>\n",
       "      <td>0.44600</td>\n",
       "      <td>1.296920e+06</td>\n",
       "    </tr>\n",
       "    <tr>\n",
       "      <th>std</th>\n",
       "      <td>0.754950</td>\n",
       "      <td>1.23475</td>\n",
       "      <td>3.962147e+06</td>\n",
       "    </tr>\n",
       "    <tr>\n",
       "      <th>min</th>\n",
       "      <td>-4.133798</td>\n",
       "      <td>0.00000</td>\n",
       "      <td>0.000000e+00</td>\n",
       "    </tr>\n",
       "    <tr>\n",
       "      <th>25%</th>\n",
       "      <td>0.106842</td>\n",
       "      <td>0.00000</td>\n",
       "      <td>0.000000e+00</td>\n",
       "    </tr>\n",
       "    <tr>\n",
       "      <th>50%</th>\n",
       "      <td>0.489704</td>\n",
       "      <td>0.00000</td>\n",
       "      <td>0.000000e+00</td>\n",
       "    </tr>\n",
       "    <tr>\n",
       "      <th>75%</th>\n",
       "      <td>0.870058</td>\n",
       "      <td>0.00000</td>\n",
       "      <td>0.000000e+00</td>\n",
       "    </tr>\n",
       "    <tr>\n",
       "      <th>max</th>\n",
       "      <td>2.752765</td>\n",
       "      <td>15.00000</td>\n",
       "      <td>3.902714e+07</td>\n",
       "    </tr>\n",
       "  </tbody>\n",
       "</table>\n",
       "</div>"
      ],
      "text/plain": [
       "        GDP Growth       Count  Total Revenue\n",
       "count  1000.000000  1000.00000   1.000000e+03\n",
       "mean      0.436205     0.44600   1.296920e+06\n",
       "std       0.754950     1.23475   3.962147e+06\n",
       "min      -4.133798     0.00000   0.000000e+00\n",
       "25%       0.106842     0.00000   0.000000e+00\n",
       "50%       0.489704     0.00000   0.000000e+00\n",
       "75%       0.870058     0.00000   0.000000e+00\n",
       "max       2.752765    15.00000   3.902714e+07"
      ]
     },
     "execution_count": 120,
     "metadata": {},
     "output_type": "execute_result"
    }
   ],
   "source": [
    "gdp_subset.describe()"
   ]
  },
  {
   "cell_type": "markdown",
   "metadata": {},
   "source": [
    "As shown by the results, the feed forward neural network's testing loss was slightly better than the bagging regressor's testing loss. While the training RMSE for both the bagging regressor and neural network were less than a standard deviation, the testing losses for both were greater than a standard deviation. This matches the validation-scoring plots we made for both models where the validation losses were generally much higher than the training losses. While this generally indicates underfitting in which the models used are not powerful enough to represent the data, the use of a fairly sophisticated neural network shows that the problem might be with the data itself. In other words, the connection between the trend data alone and GDP growth isn't a strong one."
   ]
  },
  {
   "cell_type": "markdown",
   "metadata": {},
   "source": [
    "Since the training losses for the models were significantly lower than the testing losses, overfitting could be a possibility. To see if this possible overfitting could be combatted, we compile the neural network with the same hyperparameters, this time using the dropout technique to remove 50% of the neurons in each hidden layer for any given epoch during training. The dropout technique is designed to combat overfitting, so if overfitting is actually happening then we should see a boost in performance."
   ]
  },
  {
   "cell_type": "code",
   "execution_count": 127,
   "metadata": {},
   "outputs": [],
   "source": [
    "from keras.layers import Dropout\n",
    "\n",
    "model_with_dropout = Sequential()\n",
    "model_with_dropout.add(Dense(64, input_dim=1, activation='relu'))  # input layer and first hidden layer\n",
    "model_with_dropout.add(Dropout(0.5))  # dropout layer after first hidden layer\n",
    "model_with_dropout.add(Dense(128, activation='relu'))  # second hidden layer\n",
    "model_with_dropout.add(Dropout(0.5))  # dropout layer after second hidden layer\n",
    "model_with_dropout.add(Dense(32, activation='relu'))  # third hidden layer\n",
    "model_with_dropout.add(Dropout(0.5))  # dropout layer after third hidden layer\n",
    "model_with_dropout.add(Dense(1))  # output layer\n",
    "\n",
    "# compile the model\n",
    "model_with_dropout.compile(optimizer='adam', loss='mean_squared_error')"
   ]
  },
  {
   "cell_type": "code",
   "execution_count": 134,
   "metadata": {},
   "outputs": [
    {
     "name": "stdout",
     "output_type": "stream",
     "text": [
      "25/25 [==============================] - 0s 958us/step\n",
      "Root Mean Squared Training Error: 0.780457692843076\n",
      "4/4 [==============================] - 0s 1ms/step\n",
      "Root Mean Squared Testing Error: 0.8334981524010098\n"
     ]
    }
   ],
   "source": [
    "# train the model with dropout using learned hyper parameters\n",
    "model_with_dropout.fit(X_train, y_train, epochs=20, batch_size=10, verbose=0)\n",
    "\n",
    "# run predictions\n",
    "\n",
    "y_pred = model_with_dropout.predict(X_train)\n",
    "rmse = mean_squared_error(y_train, y_pred, squared=False)\n",
    "print(f\"Root Mean Squared Training Error: {rmse}\")\n",
    "\n",
    "y_pred = model_with_dropout.predict(X_test)\n",
    "rmse = mean_squared_error(y_test, y_pred, squared=False)\n",
    "print(f\"Root Mean Squared Testing Error: {rmse}\")"
   ]
  },
  {
   "cell_type": "markdown",
   "metadata": {},
   "source": [
    "As shown, adding dropout to the neural network didn't seem to improve performance. Instead of overfitting, the issue at hand is more likely the fact that the data set granularity is fairly low and also the data set size in general is quite low, especially for the concert data which will be used more later."
   ]
  },
  {
   "cell_type": "markdown",
   "metadata": {},
   "source": [
    "Finally, we will just try to predict GDP growth from concert attendance, seeing if we can predict it without taking into account the social media aspect of our objective through the trends data"
   ]
  },
  {
   "cell_type": "code",
   "execution_count": 122,
   "metadata": {},
   "outputs": [],
   "source": [
    "trend_population_gdp = pd.merge(test_with_populations, gdp_subset, on=['State', 'Quarter'])\n",
    "\n",
    "X = trend_population_gdp[['Attendance (Avg.)']]\n",
    "y = trend_population_gdp['GDP Growth']\n",
    "\n",
    "# initial split to separate out the train set\n",
    "X_train, X_val_test, y_train, y_val_test = train_test_split(X, y, train_size=0.8, random_state=SEED)\n",
    "\n",
    "# split the val_test data into validation and test sets so that the final split is 80/10/10\n",
    "X_val, X_test, y_val, y_test = train_test_split(X_val_test, y_val_test, test_size=0.5, random_state=SEED)"
   ]
  },
  {
   "cell_type": "code",
   "execution_count": 123,
   "metadata": {},
   "outputs": [
    {
     "data": {
      "text/plain": [
       "0.5774555604992673"
      ]
     },
     "execution_count": 123,
     "metadata": {},
     "output_type": "execute_result"
    }
   ],
   "source": [
    "lin_reg = LinearRegression()\n",
    "lin_reg.fit(X_train, y_train)\n",
    "\n",
    "mean_squared_error(lin_reg.predict(X_test), y_test) ** 0.5"
   ]
  },
  {
   "cell_type": "code",
   "execution_count": 124,
   "metadata": {},
   "outputs": [
    {
     "data": {
      "image/png": "[encoded data removed]",
      "text/plain": [
       "<Figure size 640x480 with 1 Axes>"
      ]
     },
     "metadata": {},
     "output_type": "display_data"
    }
   ],
   "source": [
    "# find which n_estimators to use through validation data\n",
    "\n",
    "n_estimators_range = list(range(10, 71, 10))\n",
    "models = [BaggingRegressor(LinearRegression(), n_estimators=n, random_state=SEED) for n in n_estimators_range]\n",
    "\n",
    "title = 'Effect of n_estimators on Bagging Regressor Performance'\n",
    "x_label = 'Number of Estimators'\n",
    "tune_hyper_params(X_train, y_train, X_val, y_val, models, n_estimators_range, title, x_label)"
   ]
  },
  {
   "cell_type": "markdown",
   "metadata": {},
   "source": [
    "As shown, the number of estimators does not seem to have an effect on the accuracy of the bagging regressor model when predicting GDP growth. So, to keep it less computationally intense, 10 estimators will be used."
   ]
  },
  {
   "cell_type": "code",
   "execution_count": 125,
   "metadata": {},
   "outputs": [
    {
     "data": {
      "text/plain": [
       "0.5212466087619914"
      ]
     },
     "execution_count": 125,
     "metadata": {},
     "output_type": "execute_result"
    }
   ],
   "source": [
    "bagged_lin_reg_gdp_atten = BaggingRegressor(LinearRegression(), n_estimators=10)\n",
    "bagged_lin_reg_gdp_atten.fit(X_train, y_train)\n",
    "\n",
    "# output training error\n",
    "mean_squared_error(bagged_lin_reg_gdp_atten.predict(X_train), y_train, squared=False)"
   ]
  },
  {
   "cell_type": "code",
   "execution_count": 126,
   "metadata": {},
   "outputs": [
    {
     "data": {
      "image/png": "[encoded data removed]",
      "text/plain": [
       "<Figure size 640x480 with 1 Axes>"
      ]
     },
     "metadata": {},
     "output_type": "display_data"
    }
   ],
   "source": [
    "plot_learning_curve(X_train, y_train, bagged_lin_reg_gdp_atten)"
   ]
  },
  {
   "cell_type": "markdown",
   "metadata": {},
   "source": [
    "The results of this learning curve are also surprising, where the training loss seems to increase as the number of training samples increases after the 100 mark. This could be for many reasons, one of them being some outliers in the training data that happen to appear after the 100 mark which significantly harms the accuracy of the model."
   ]
  },
  {
   "cell_type": "code",
   "execution_count": 128,
   "metadata": {},
   "outputs": [
    {
     "data": {
      "text/plain": [
       "0.5800211818743195"
      ]
     },
     "execution_count": 128,
     "metadata": {},
     "output_type": "execute_result"
    }
   ],
   "source": [
    "# Finally, output testing RMSE\n",
    "mean_squared_error(bagged_lin_reg_gdp_atten.predict(X_test), y_test, squared=False)"
   ]
  },
  {
   "cell_type": "code",
   "execution_count": 130,
   "metadata": {},
   "outputs": [],
   "source": [
    "# create the feed-forward neural network model\n",
    "model = Sequential()\n",
    "model.add(Dense(64, input_dim=1, activation='relu'))  # input layer and first hidden layer\n",
    "model.add(Dense(128, activation='relu'))  # second hidden layer\n",
    "model.add(Dense(32, activation='relu'))  # third hidden layer\n",
    "model.add(Dense(1))  # output layer\n",
    "\n",
    "# compile the model\n",
    "model.compile(optimizer='adam', loss='mean_squared_error')"
   ]
  },
  {
   "cell_type": "code",
   "execution_count": 132,
   "metadata": {},
   "outputs": [
    {
     "name": "stdout",
     "output_type": "stream",
     "text": [
      "11/11 [==============================] - 0s 2ms/step\n",
      "2/2 [==============================] - 0s 4ms/step\n",
      "11/11 [==============================] - 0s 3ms/step\n",
      "2/2 [==============================] - 0s 7ms/step\n",
      "11/11 [==============================] - 0s 2ms/step\n",
      "2/2 [==============================] - 0s 3ms/step\n",
      "11/11 [==============================] - 0s 2ms/step\n",
      "2/2 [==============================] - 0s 3ms/step\n",
      "11/11 [==============================] - 0s 2ms/step\n",
      "2/2 [==============================] - 0s 4ms/step\n",
      "11/11 [==============================] - 0s 3ms/step\n",
      "2/2 [==============================] - 0s 4ms/step\n",
      "11/11 [==============================] - 0s 3ms/step\n",
      "2/2 [==============================] - 0s 8ms/step\n"
     ]
    },
    {
     "data": {
      "image/png": "[encoded data removed]",
      "text/plain": [
       "<Figure size 640x480 with 1 Axes>"
      ]
     },
     "metadata": {},
     "output_type": "display_data"
    }
   ],
   "source": [
    "epochs = list(range(20, 81, 10))\n",
    "models = [model] * len(epochs)\n",
    "hyperparams = [{'epochs': epoch, 'batch_size': 10, 'verbose': 0} for epoch in epochs]\n",
    "tune_hyper_params(X_train, y_train, X_val, y_val, models, epochs, title='Epochs on performance of NN', x_label='Number of epochs', extra_hyper_params=hyperparams)"
   ]
  },
  {
   "cell_type": "markdown",
   "metadata": {},
   "source": [
    "As shown in the graph, there seems to be a weird peak in loss with 30 epochs which seems to go away and level out at about 40 epochs. As a result, 40 epochs will be used for the neural network."
   ]
  },
  {
   "cell_type": "code",
   "execution_count": 133,
   "metadata": {},
   "outputs": [
    {
     "name": "stdout",
     "output_type": "stream",
     "text": [
      "11/11 [==============================] - 0s 2ms/step\n",
      "2/2 [==============================] - 0s 5ms/step\n",
      "11/11 [==============================] - 0s 2ms/step\n",
      "2/2 [==============================] - 0s 3ms/step\n",
      "11/11 [==============================] - 0s 2ms/step\n",
      "2/2 [==============================] - 0s 4ms/step\n",
      "11/11 [==============================] - 0s 2ms/step\n",
      "2/2 [==============================] - 0s 7ms/step\n",
      "11/11 [==============================] - 0s 2ms/step\n",
      "2/2 [==============================] - 0s 4ms/step\n"
     ]
    },
    {
     "data": {
      "image/png": "[encoded data removed]",
      "text/plain": [
       "<Figure size 640x480 with 1 Axes>"
      ]
     },
     "metadata": {},
     "output_type": "display_data"
    }
   ],
   "source": [
    "batch_sizes = [1] + list(range(5, 21, 5))\n",
    "models = [model] * len(batch_sizes)\n",
    "hyperparams = [{'epochs': 40, 'batch_size': size, 'verbose': 0} for size in batch_sizes]\n",
    "tune_hyper_params(X_train, y_train, X_val, y_val, models, batch_sizes, title='Batch size on performance of NN', x_label='Size of batches', extra_hyper_params=hyperparams)"
   ]
  },
  {
   "cell_type": "markdown",
   "metadata": {},
   "source": [
    "As shown in the plot, a batch size of 15 seemed to be where the loss started to flatten out and plateau. As a result, 15 will be used."
   ]
  },
  {
   "cell_type": "code",
   "execution_count": 134,
   "metadata": {},
   "outputs": [
    {
     "name": "stdout",
     "output_type": "stream",
     "text": [
      "11/11 [==============================] - 0s 1ms/step\n",
      "Root Mean Squared Training Error: 0.2711317198892375\n",
      "2/2 [==============================] - 0s 5ms/step\n",
      "Root Mean Squared Testing Error: 0.33851710167759397\n"
     ]
    }
   ],
   "source": [
    "# train the model\n",
    "model.fit(X_train, y_train, epochs=40, batch_size=15, verbose=0)\n",
    "\n",
    "# run predictions\n",
    "\n",
    "y_pred = model.predict(X_train)\n",
    "rmse = mean_squared_error(y_train, y_pred, squared=True)\n",
    "print(f\"Root Mean Squared Training Error: {rmse}\")\n",
    "\n",
    "\n",
    "y_pred = model.predict(X_test)\n",
    "rmse = mean_squared_error(y_test, y_pred, squared=True)\n",
    "print(f\"Root Mean Squared Testing Error: {rmse}\")"
   ]
  },
  {
   "cell_type": "markdown",
   "metadata": {},
   "source": [
    "We can see with the results that the neural network heavily outperformed the bagging regressor in this use-case with a testing error of ~0.34 while the bagging regressor's testing error was ~0.58. Looking back on the statistical description of the GDP growth data, we can see that both these loss figures are well below a standard deviation, with the neural network's testing loss being less than half a standard deviation. Between all the use-cases for these types of models and our collected data, this is the best model accuracy obtained. This, to a degree, matches our preliminary research that suggested a connection between concerts and GDP growth."
   ]
  },
  {
   "cell_type": "markdown",
   "metadata": {},
   "source": [
    "Future Work: Adding in Taylor Swift and Beyonce trend data"
   ]
  },
  {
   "cell_type": "code",
   "execution_count": 50,
   "metadata": {},
   "outputs": [
    {
     "data": {
      "text/html": [
       "<div>\n",
       "<style scoped>\n",
       "    .dataframe tbody tr th:only-of-type {\n",
       "        vertical-align: middle;\n",
       "    }\n",
       "\n",
       "    .dataframe tbody tr th {\n",
       "        vertical-align: top;\n",
       "    }\n",
       "\n",
       "    .dataframe thead th {\n",
       "        text-align: right;\n",
       "    }\n",
       "</style>\n",
       "<table border=\"1\" class=\"dataframe\">\n",
       "  <thead>\n",
       "    <tr style=\"text-align: right;\">\n",
       "      <th></th>\n",
       "      <th>Taylor Swift</th>\n",
       "      <th>Beyonce</th>\n",
       "      <th>State</th>\n",
       "      <th>Quarter</th>\n",
       "    </tr>\n",
       "  </thead>\n",
       "  <tbody>\n",
       "    <tr>\n",
       "      <th>0</th>\n",
       "      <td>0.888889</td>\n",
       "      <td>1.130435</td>\n",
       "      <td>Alabama</td>\n",
       "      <td>2020:Q1</td>\n",
       "    </tr>\n",
       "    <tr>\n",
       "      <th>1</th>\n",
       "      <td>0.700000</td>\n",
       "      <td>1.040000</td>\n",
       "      <td>Alabama</td>\n",
       "      <td>2020:Q1</td>\n",
       "    </tr>\n",
       "    <tr>\n",
       "      <th>2</th>\n",
       "      <td>1.500000</td>\n",
       "      <td>1.562500</td>\n",
       "      <td>Alabama</td>\n",
       "      <td>2020:Q1</td>\n",
       "    </tr>\n",
       "    <tr>\n",
       "      <th>3</th>\n",
       "      <td>1.875000</td>\n",
       "      <td>1.363636</td>\n",
       "      <td>Alabama</td>\n",
       "      <td>2020:Q1</td>\n",
       "    </tr>\n",
       "    <tr>\n",
       "      <th>4</th>\n",
       "      <td>2.375000</td>\n",
       "      <td>2.000000</td>\n",
       "      <td>Alabama</td>\n",
       "      <td>2020:Q1</td>\n",
       "    </tr>\n",
       "    <tr>\n",
       "      <th>...</th>\n",
       "      <td>...</td>\n",
       "      <td>...</td>\n",
       "      <td>...</td>\n",
       "      <td>...</td>\n",
       "    </tr>\n",
       "    <tr>\n",
       "      <th>198</th>\n",
       "      <td>11.600000</td>\n",
       "      <td>0.466667</td>\n",
       "      <td>Wyoming</td>\n",
       "      <td>2023:Q4</td>\n",
       "    </tr>\n",
       "    <tr>\n",
       "      <th>199</th>\n",
       "      <td>7.833333</td>\n",
       "      <td>0.000000</td>\n",
       "      <td>Wyoming</td>\n",
       "      <td>2023:Q4</td>\n",
       "    </tr>\n",
       "    <tr>\n",
       "      <th>200</th>\n",
       "      <td>6.000000</td>\n",
       "      <td>0.000000</td>\n",
       "      <td>Wyoming</td>\n",
       "      <td>2023:Q4</td>\n",
       "    </tr>\n",
       "    <tr>\n",
       "      <th>201</th>\n",
       "      <td>8.666667</td>\n",
       "      <td>0.978723</td>\n",
       "      <td>Wyoming</td>\n",
       "      <td>2023:Q4</td>\n",
       "    </tr>\n",
       "    <tr>\n",
       "      <th>202</th>\n",
       "      <td>1.000000</td>\n",
       "      <td>0.000000</td>\n",
       "      <td>Wyoming</td>\n",
       "      <td>2023:Q4</td>\n",
       "    </tr>\n",
       "  </tbody>\n",
       "</table>\n",
       "<p>10150 rows × 4 columns</p>\n",
       "</div>"
      ],
      "text/plain": [
       "     Taylor Swift   Beyonce    State  Quarter\n",
       "0        0.888889  1.130435  Alabama  2020:Q1\n",
       "1        0.700000  1.040000  Alabama  2020:Q1\n",
       "2        1.500000  1.562500  Alabama  2020:Q1\n",
       "3        1.875000  1.363636  Alabama  2020:Q1\n",
       "4        2.375000  2.000000  Alabama  2020:Q1\n",
       "..            ...       ...      ...      ...\n",
       "198     11.600000  0.466667  Wyoming  2023:Q4\n",
       "199      7.833333  0.000000  Wyoming  2023:Q4\n",
       "200      6.000000  0.000000  Wyoming  2023:Q4\n",
       "201      8.666667  0.978723  Wyoming  2023:Q4\n",
       "202      1.000000  0.000000  Wyoming  2023:Q4\n",
       "\n",
       "[10150 rows x 4 columns]"
      ]
     },
     "execution_count": 50,
     "metadata": {},
     "output_type": "execute_result"
    }
   ],
   "source": [
    "test_state_trends = pd.DataFrame()\n",
    "\n",
    "for s in states:\n",
    "\n",
    "    state_df = pd.read_csv(\"merged_test_csvs/\" + s + \"_trend_data.csv\", index_col=0)\n",
    "    state_df['State'] = [s] * len(state_df)\n",
    "\n",
    "    test_state_trends = pd.concat([test_state_trends, state_df])\n",
    "\n",
    "test_state_trends = test_state_trends.fillna(0).replace(np.inf, 1)\n",
    "test_state_trends = test_state_trends.replace(state_abbr_map)\n",
    "test_state_trends['date'] = pd.to_datetime(test_state_trends['date'])\n",
    "test_state_trends['Quarter'] = test_state_trends['date'].apply(get_quarter)\n",
    "test_state_trends = test_state_trends.drop('date', axis=1)\n",
    "test_state_trends"
   ]
  },
  {
   "cell_type": "code",
   "execution_count": 51,
   "metadata": {},
   "outputs": [
    {
     "data": {
      "text/html": [
       "<div>\n",
       "<style scoped>\n",
       "    .dataframe tbody tr th:only-of-type {\n",
       "        vertical-align: middle;\n",
       "    }\n",
       "\n",
       "    .dataframe tbody tr th {\n",
       "        vertical-align: top;\n",
       "    }\n",
       "\n",
       "    .dataframe thead th {\n",
       "        text-align: right;\n",
       "    }\n",
       "</style>\n",
       "<table border=\"1\" class=\"dataframe\">\n",
       "  <thead>\n",
       "    <tr style=\"text-align: right;\">\n",
       "      <th></th>\n",
       "      <th>State</th>\n",
       "      <th>Quarter</th>\n",
       "      <th>Trend Index</th>\n",
       "    </tr>\n",
       "  </thead>\n",
       "  <tbody>\n",
       "    <tr>\n",
       "      <th>0</th>\n",
       "      <td>Alabama</td>\n",
       "      <td>2020:Q1</td>\n",
       "      <td>1.223829</td>\n",
       "    </tr>\n",
       "    <tr>\n",
       "      <th>1</th>\n",
       "      <td>Alabama</td>\n",
       "      <td>2020:Q2</td>\n",
       "      <td>1.014975</td>\n",
       "    </tr>\n",
       "    <tr>\n",
       "      <th>2</th>\n",
       "      <td>Alabama</td>\n",
       "      <td>2020:Q3</td>\n",
       "      <td>1.137206</td>\n",
       "    </tr>\n",
       "    <tr>\n",
       "      <th>3</th>\n",
       "      <td>Alabama</td>\n",
       "      <td>2020:Q4</td>\n",
       "      <td>1.021632</td>\n",
       "    </tr>\n",
       "    <tr>\n",
       "      <th>4</th>\n",
       "      <td>Alabama</td>\n",
       "      <td>2021:Q1</td>\n",
       "      <td>1.205643</td>\n",
       "    </tr>\n",
       "    <tr>\n",
       "      <th>...</th>\n",
       "      <td>...</td>\n",
       "      <td>...</td>\n",
       "      <td>...</td>\n",
       "    </tr>\n",
       "    <tr>\n",
       "      <th>795</th>\n",
       "      <td>Wyoming</td>\n",
       "      <td>2022:Q4</td>\n",
       "      <td>1.682938</td>\n",
       "    </tr>\n",
       "    <tr>\n",
       "      <th>796</th>\n",
       "      <td>Wyoming</td>\n",
       "      <td>2023:Q1</td>\n",
       "      <td>0.977004</td>\n",
       "    </tr>\n",
       "    <tr>\n",
       "      <th>797</th>\n",
       "      <td>Wyoming</td>\n",
       "      <td>2023:Q2</td>\n",
       "      <td>1.325846</td>\n",
       "    </tr>\n",
       "    <tr>\n",
       "      <th>798</th>\n",
       "      <td>Wyoming</td>\n",
       "      <td>2023:Q3</td>\n",
       "      <td>1.918452</td>\n",
       "    </tr>\n",
       "    <tr>\n",
       "      <th>799</th>\n",
       "      <td>Wyoming</td>\n",
       "      <td>2023:Q4</td>\n",
       "      <td>3.770908</td>\n",
       "    </tr>\n",
       "  </tbody>\n",
       "</table>\n",
       "<p>800 rows × 3 columns</p>\n",
       "</div>"
      ],
      "text/plain": [
       "       State  Quarter  Trend Index\n",
       "0    Alabama  2020:Q1     1.223829\n",
       "1    Alabama  2020:Q2     1.014975\n",
       "2    Alabama  2020:Q3     1.137206\n",
       "3    Alabama  2020:Q4     1.021632\n",
       "4    Alabama  2021:Q1     1.205643\n",
       "..       ...      ...          ...\n",
       "795  Wyoming  2022:Q4     1.682938\n",
       "796  Wyoming  2023:Q1     0.977004\n",
       "797  Wyoming  2023:Q2     1.325846\n",
       "798  Wyoming  2023:Q3     1.918452\n",
       "799  Wyoming  2023:Q4     3.770908\n",
       "\n",
       "[800 rows x 3 columns]"
      ]
     },
     "execution_count": 51,
     "metadata": {},
     "output_type": "execute_result"
    }
   ],
   "source": [
    "test_stacked_trends = test_state_trends.set_index(['State', 'Quarter']).stack().reset_index().rename(columns = {'level_2': 'Artist', 0: 'Trend Index'})\n",
    "test_quarterly_trends = test_stacked_trends.groupby(['State', 'Artist', 'Quarter']).agg(np.average).reset_index()\n",
    "avg_test_trends_per_quarter = test_quarterly_trends[['State', 'Quarter', 'Trend Index']].groupby(['State', 'Quarter']).agg(np.average).reset_index()\n",
    "avg_test_trends_per_quarter"
   ]
  },
  {
   "cell_type": "code",
   "execution_count": null,
   "metadata": {},
   "outputs": [],
   "source": []
  }
 ],
 "metadata": {
  "kernelspec": {
   "display_name": "base",
   "language": "python",
   "name": "python3"
  },
  "language_info": {
   "codemirror_mode": {
    "name": "ipython",
    "version": 3
   },
   "file_extension": ".py",
   "mimetype": "text/x-python",
   "name": "python",
   "nbconvert_exporter": "python",
   "pygments_lexer": "ipython3",
   "version": "3.10.0"
  },
  "orig_nbformat": 4
 },
 "nbformat": 4,
 "nbformat_minor": 2
}
